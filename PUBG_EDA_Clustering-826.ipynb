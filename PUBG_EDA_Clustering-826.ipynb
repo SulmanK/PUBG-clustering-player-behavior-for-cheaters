{
 "cells": [
  {
   "cell_type": "markdown",
   "metadata": {},
   "source": [
    "Introduction"
   ]
  },
  {
   "cell_type": "code",
   "execution_count": null,
   "metadata": {},
   "outputs": [],
   "source": [
    "# EDA\n",
    "    #Finished Just Comment code, fix typos, reformat analysis \n",
    "# Cluster\n",
    "    # PCA / Kmeans # Do own implementation too?\n",
    "\n",
    "    \n",
    "#### Fix up Other Sections?   \n",
    "    # Fix dist plots\n",
    "    # Fix prob plots\n",
    "    # Fix box plot labels?\n",
    "    # Add in background informations for these variables\n",
    "    # When doing analyses compare the average results\n",
    "    # Include mean / median\n",
    "    # Include more analysis on boxplots\n",
    "    # Remove team kills \n",
    "\n",
    "    \n",
    "# Possible alterations 3D, 2D, PCA with all features, clean up training and testing set, look into validation sets to see if any bias!!!!!!!!!\n",
    "# CLustering is finished\n",
    "    \n",
    "# Write up:\n",
    "# Introduction\n",
    "# EDA\n",
    "# Clustering"
   ]
  },
  {
   "cell_type": "code",
   "execution_count": null,
   "metadata": {},
   "outputs": [],
   "source": [
    "from sklearn.cluster import KMeans\n",
    "from sklearn.cluster import MeanShift\n",
    "from sklearn.decomposition import PCA\n",
    "from sklearn.preprocessing import StandardScaler\n",
    "from sklearn.model_selection import train_test_split\n",
    "from scipy import stats\n",
    "from mpl_toolkits.mplot3d import Axes3D\n",
    "from plotly.offline import init_notebook_mode, iplot\n",
    "from plotly.graph_objs import *\n",
    "import numpy as np\n",
    "import pandas as pd\n",
    "import seaborn as sns\n",
    "import xlrd\n",
    "import matplotlib.pyplot as plt\n",
    "import plotly.express as px\n",
    "%matplotlib inline\n",
    "pd.options.mode.chained_assignment = None\n",
    "\n",
    "# Set an offline environment for plotly\n",
    "init_notebook_mode(connected=True)"
   ]
  },
  {
   "cell_type": "markdown",
   "metadata": {},
   "source": [
    "Data Preprocessing / Feature Engineering"
   ]
  },
  {
   "cell_type": "markdown",
   "metadata": {},
   "source": [
    "Let us begin by reading in the CSV file containing the data, and examining the data contents such as the number of features and rows. It seems there are 152 column entries (features) and 87898 row entries (number of samples)."
   ]
  },
  {
   "cell_type": "code",
   "execution_count": null,
   "metadata": {},
   "outputs": [],
   "source": [
    "# Read in CSV\n",
    "orig = pd.read_csv(r\"C:\\Users\\sulma\\Downloads\\Kaggle Datasets\\PUBG\\PUBG-hack-detection-master\\PUBG_Player_Statistics.csv\")\n",
    "# Examine data contents\n",
    "orig.info()\n",
    "orig.head()"
   ]
  },
  {
   "cell_type": "markdown",
   "metadata": {},
   "source": [
    "Now, let us remove information that does not pertain to our goal of clustering solo player behavior. \n",
    "\n",
    "Remove player_name, tracker_id, duo, and squad columns. This can be achieved by removing all columns after the 52nd. Also, create a new feature that combines the walking and riding distance."
   ]
  },
  {
   "cell_type": "code",
   "execution_count": null,
   "metadata": {},
   "outputs": [],
   "source": [
    "## df Preprocessing\n",
    "# Create a copy of the dataframe\n",
    "df = orig.copy()\n",
    "cols = np.arange(52, 152, 1)\n",
    "# Drop columns after the 52nd index\n",
    "df.drop(df.columns[cols],axis=1,inplace=True)\n",
    "# Drop player_name and tracker id\n",
    "df.drop(df.columns[[0, 1]],axis=1,inplace=True)\n",
    "# Drop Knockout and Revives\n",
    "df.drop(df.columns[[49]],axis=1,inplace=True)\n",
    "df.drop(columns = ['solo_Revives'], inplace=True)\n",
    "# Let's drop the string solo from all strings\n",
    "df.rename(columns= lambda x: x.lstrip('solo_').rstrip(''), inplace=True)\n",
    "# Combine a few columns \n",
    "df['TotalDistance'] = df['WalkDistance'] + df['RideDistance']\n",
    "df['AvgTotalDistance'] = df['AvgWalkDistance'] + df['AvgRideDistance']\n",
    "\n"
   ]
  },
  {
   "cell_type": "markdown",
   "metadata": {},
   "source": [
    "We will split the data into three sets: train, dev, and test set."
   ]
  },
  {
   "cell_type": "code",
   "execution_count": null,
   "metadata": {},
   "outputs": [],
   "source": [
    "# Create train and test set\n",
    "train, test = train_test_split(df, test_size=0.1)\n",
    "dev, test = train_test_split(test, test_size = 0.5)\n",
    "data = train\n",
    "\n",
    "print(len(train))\n",
    "print(len(dev))\n",
    "print(len(test))"
   ]
  },
  {
   "cell_type": "markdown",
   "metadata": {},
   "source": [
    "It is important we go through the final output to make sure that are data preprocessing is complete. And it looks great!"
   ]
  },
  {
   "cell_type": "code",
   "execution_count": null,
   "metadata": {},
   "outputs": [],
   "source": [
    "with pd.option_context('display.max_columns', 52):\n",
    "    print(data.describe(include='all'))\n",
    "\n"
   ]
  },
  {
   "cell_type": "markdown",
   "metadata": {},
   "source": [
    "In the next section, we'll go over various representations of the features. Starting off with univarate plots and then observing bivariate relationships."
   ]
  },
  {
   "cell_type": "markdown",
   "metadata": {},
   "source": [
    "Univariate Plots \n",
    "Let's examine a select few features"
   ]
  },
  {
   "cell_type": "markdown",
   "metadata": {},
   "source": [
    "Continous Representations"
   ]
  },
  {
   "cell_type": "markdown",
   "metadata": {},
   "source": [
    "We will select the following features because they are the more prominent predictors from domain experience\n",
    "\n",
    "From what we observe, the distribution plots imply that all of these features are right-skewed except for the  AvgSurvivalTime, which appears to be following a normal distribution."
   ]
  },
  {
   "cell_type": "code",
   "execution_count": null,
   "metadata": {
    "scrolled": true
   },
   "outputs": [],
   "source": [
    "## Histogram Plots\n",
    "# Creating axes for plots\n",
    "f, axes = plt.subplots(3, 4, figsize=(30,20), sharex=False)\n",
    "# Distplots\n",
    "sns.distplot(data[\"Kills\"],  color=\"skyblue\", ax=axes[0, 0])\n",
    "sns.distplot(data[\"KillDeathRatio\"] , color=\"olive\", ax=axes[0, 1])\n",
    "sns.distplot(data[\"Wins\"] , color=\"gold\", ax=axes[1, 0])\n",
    "sns.distplot(data[\"WinRatio\"] , color=\"teal\", ax=axes[1, 1])\n",
    "# sns.distplot(data[\"Top10Ratio\"] , color=\"orange\", ax=axes[2, 1])\n",
    "sns.distplot(data[\"HeadshotKills\"] , color=\"blue\", ax=axes[0, 2])\n",
    "sns.distplot(data[\"HeadshotKillRatio\"] , color=\"red\", ax=axes[1, 2])\n",
    "sns.distplot(data[\"DamageDealt\"] , color=\"purple\", ax=axes[0, 3])\n",
    "sns.distplot(data[\"DamagePg\"] , color=\"magenta\", ax=axes[1, 3])\n",
    "sns.distplot(data[\"RoundsPlayed\"] , color=\"silver\", ax=axes[2, 0])\n",
    "#sns.distplot(data[\"TimeSurvived\"] , color=\"orange\", ax=axes[2, 1])\n",
    "sns.distplot(data[\"AvgSurvivalTime\"] , color=\"orange\", ax=axes[2, 1])\n",
    "sns.distplot(data['TotalDistance'] , color=\"green\", ax=axes[2, 2])\n",
    "sns.distplot(data[\"AvgTotalDistance\"] , color=\"darkblue\", ax=axes[2, 3])\n"
   ]
  },
  {
   "cell_type": "markdown",
   "metadata": {},
   "source": [
    "We can support the claim of it being normal by also examining the probability plot and see if it follows the lines"
   ]
  },
  {
   "cell_type": "code",
   "execution_count": null,
   "metadata": {},
   "outputs": [],
   "source": [
    "## Probability Plots\n",
    "# Combat\n",
    "ax1 = plt.subplot(221)\n",
    "stats.probplot( data[\"Kills\"],plot=sns.mpl.pyplot) \n",
    "ax2 = plt.subplot(222)\n",
    "stats.probplot( data[\"KillDeathRatio\"],plot=sns.mpl.pyplot) \n",
    "ax3 = plt.subplot(223)\n",
    "stats.probplot( data[\"Wins\"],plot=sns.mpl.pyplot) \n",
    "ax4 = plt.subplot(224)\n",
    "stats.probplot( data[\"WinRatio\"],plot=sns.mpl.pyplot)\n",
    "fig = plt.figure()\n",
    "ax_1 = fig.add_subplot(221)\n",
    "stats.probplot( data[\"HeadshotKills\"],plot=sns.mpl.pyplot) \n",
    "ax_2 = fig.add_subplot(222)\n",
    "stats.probplot( data[\"HeadshotKillRatio\"] ,plot=sns.mpl.pyplot)\n",
    "ax_3 = fig.add_subplot(223)\n",
    "stats.probplot( data[\"DamageDealt\"],plot=sns.mpl.pyplot) \n",
    "ax_4 = fig.add_subplot(224)\n",
    "stats.probplot( data[\"DamagePg\"],plot=sns.mpl.pyplot)\n",
    "fig = plt.figure()\n",
    "ax_31 = fig.add_subplot(221)\n",
    "stats.probplot( data[\"RoundsPlayed\"] ,plot=sns.mpl.pyplot)\n",
    "ax_32 = fig.add_subplot(222)\n",
    "stats.probplot( data[\"AvgSurvivalTime\"] ,plot=sns.mpl.pyplot)\n",
    "ax_33 = fig.add_subplot(223)\n",
    "stats.probplot( data['TotalDistance'],plot=sns.mpl.pyplot) \n",
    "ax_34 = fig.add_subplot(224)\n",
    "stats.probplot( data[\"AvgTotalDistance\"],plot=sns.mpl.pyplot)\n"
   ]
  },
  {
   "cell_type": "markdown",
   "metadata": {},
   "source": [
    "Now, that we have gone through the basic understanding of the continous representation of the data. Let's discretize the data into specific intervals and see how the population is spread. What we imply with discretizing is we want to convert a feature from numerical into categorical, this is very important for conducting boxplots or violin plots, as we don't want to look at all of the points but a select few intervals!"
   ]
  },
  {
   "cell_type": "markdown",
   "metadata": {},
   "source": [
    "Discretized"
   ]
  },
  {
   "cell_type": "markdown",
   "metadata": {},
   "source": [
    "Our function below will take a feature, discretize it, and then plots the representation of it."
   ]
  },
  {
   "cell_type": "code",
   "execution_count": null,
   "metadata": {},
   "outputs": [],
   "source": [
    "###Creates a seaborn count plot by discretizing a column to change into an interval (category)\n",
    "## Use \n",
    "# 1) Discretize a feature: convert it from numerical to categorical\n",
    "# 2) Plot a countplot using seaborn\n",
    "# 3) Annotate the frequency of each interval\n",
    "## Function parameters:\n",
    "# data == dataframe\n",
    "# discretized == new feature (category)\n",
    "# cut == feature that is being\n",
    "# converted into a category\n",
    "# plot_label = label of the x-axis and title\n",
    "# rotation = rotation of the x-tick marks\n",
    "# bins == the intervals\n",
    "# labels == string representations of the bins\n",
    "\n",
    "def CountPlot(data, discretized, cut, title_label, plot_xlabel, rotation, bins, labels):\n",
    "    # Discretize the data\n",
    "    data[discretized] = pd.cut(data[cut], bins = bins, labels = labels)\n",
    "    \n",
    "    # Plot\n",
    "    dfWIM = data\n",
    "    plt.style.use('ggplot')\n",
    "    plt.figure(figsize=(15,10))\n",
    "    ax = sns.countplot(x=discretized, data=dfWIM, order= labels)\n",
    "    plt.title('Distribution of'+ ' ' + title_label)\n",
    "    plt.xlabel(plot_xlabel)\n",
    "    plt.xticks(rotation = rotation, fontsize=10)\n",
    "\n",
    "    # Annotate the frequencies of each interval\n",
    "    ncount = len(dfWIM)\n",
    "    for p in ax.patches:\n",
    "        x=p.get_bbox().get_points()[:,0]\n",
    "        y=p.get_bbox().get_points()[1,1]\n",
    "        ax.annotate('{:.1f}%'.format(100.*y/ncount), (x.mean(), y), \n",
    "                ha='center', va='bottom', rotation = 90) # set the alignment of the text\n",
    "    return plt.show()\n"
   ]
  },
  {
   "cell_type": "markdown",
   "metadata": {
    "scrolled": true
   },
   "source": [
    "Kills / Kill Death Ratio"
   ]
  },
  {
   "cell_type": "markdown",
   "metadata": {},
   "source": [
    "Distribution of Kills:\n",
    "* Most players are in the range of 0 - 9 kills, which is about 9.1% of the data.\n",
    "\n",
    "Distribution of Kill Death Ratio\n",
    "* Most players are in intervals of 0.60 - 0.79, 0.80 - 0.99, and 1.00 - 1.19. For reference, a KDR of 1.0 equates to that for every death you accomplished one kill."
   ]
  },
  {
   "cell_type": "code",
   "execution_count": null,
   "metadata": {
    "scrolled": false
   },
   "outputs": [],
   "source": [
    "# Distribution of Kills\n",
    "bins = [i for i in range(0, 610, 10)] + [5033]\n",
    "labels = [str(i)+ '-' + str(i+9) for i in range(0,600,10)] + ['600.0-5033']\n",
    "CountPlot(data = data, discretized = 'Kills_Category', cut = 'Kills'\n",
    "          , title_label = 'Kills' , plot_xlabel = 'Kills'\n",
    "          , rotation = 90 , bins = bins, labels = labels)\n",
    "\n",
    "# Distribution of KDR(Kill Death Ratio)\n",
    "bins =  [i for i in np.arange(0, 9.2, 0.2)] + [100]\n",
    "labels = [\"{0:.2f}\".format(i)+ '-' + \"{0:.2f}\".format(i+0.19) for i in np.arange(0, 9.0, 0.2)] + ['9.0-100']\n",
    "CountPlot(data = data, discretized = 'KillDeathRatio_Category', cut = 'KillDeathRatio'\n",
    "          , title_label = 'Kill-Death Ratio', rotation = 45 ,plot_xlabel = 'Kill-Death Ratio'\n",
    "          , bins = bins, labels = labels)\n"
   ]
  },
  {
   "cell_type": "markdown",
   "metadata": {},
   "source": [
    "Distribution of Headshots:\n",
    "* Most players are in the range of 0 - 9 headshots, which is about 34.6% of the data.\n",
    "\n",
    "Distribution of Headshot Ratio:\n",
    "* Most players are in intervals of 0.150 - 0.199 and 0.200 - 0.249 For reference, a HKR of 1.0 equates to that for every kill you accomplished one headshot."
   ]
  },
  {
   "cell_type": "code",
   "execution_count": null,
   "metadata": {
    "scrolled": false
   },
   "outputs": [],
   "source": [
    "## Headshots and Headshot Ratio\n",
    "# Headshots\n",
    "bins = [i for i in range(0, 150, 10)] + [1500]\n",
    "labels = [str(i)+ '-' + str(i+9) for i in range(0,140,10)] + ['140-1500']\n",
    "CountPlot(data = data, discretized = 'HeadshotKills_Category'\n",
    "          , cut = 'HeadshotKills', title_label = 'Headshots' , plot_xlabel = 'Headshots'\n",
    "          , rotation = 0 , bins = bins, labels = labels)\n",
    "\n",
    "# Headshot Kill Ratio\n",
    "bins =  [i for i in np.arange(0, 0.55, 0.050)] + [1.1]\n",
    "labels = [\"{0:.3f}\".format(i)+ '-' + \"{0:.3f}\".format(i+0.049) for i in np.arange(0, 0.50, 0.050)] + ['0.50-1.00']\n",
    "CountPlot(data = data, discretized = 'HeadshotKillRatio_Category'\n",
    "         , cut = 'HeadshotKillRatio', title_label = 'Headshot-Kill Ratio'\n",
    "         , plot_xlabel = 'Headshot-Kill Ratio' , rotation = 0 , bins = bins, labels = labels)\n"
   ]
  },
  {
   "cell_type": "markdown",
   "metadata": {
    "collapsed": true
   },
   "source": [
    "Wins And Top 10"
   ]
  },
  {
   "cell_type": "markdown",
   "metadata": {},
   "source": [
    "Distribution of Wins:\n",
    "* Most players are in the range of 0 - 9 wins, which is about 25.9% of the data.\n",
    "\n",
    "Distribution of Win Ratio:\n",
    "* Most players are in the interval of 1.00  - 1.99 (%). A 1.0% win ratio is analagous to every 100 games, one win is achieved."
   ]
  },
  {
   "cell_type": "code",
   "execution_count": null,
   "metadata": {},
   "outputs": [],
   "source": [
    "## Wins and Win Ratio\n",
    "# Wins\n",
    "bins =  [i for i in range(0, 16, 1)] + [106]\n",
    "labels = [str(i) for i in range(0,15,1)] + ['15-106']\n",
    "CountPlot(data = data, discretized = 'Wins_Category'\n",
    "         , cut = 'Wins', title_label = 'Wins' , plot_xlabel = 'Wins' \n",
    "         , rotation = 0 , bins = bins, labels = labels)\n",
    "\n",
    "# Win Ratio\n",
    "bins = [i for i in np.arange(0, 51, 1)] + [100]\n",
    "labels = [\"{0:.2f}\".format(i)+ '-' + \"{0:.2f}\".format(i+0.99) for i in np.arange(0, 50, 1)] + ['50.00-100']\n",
    "CountPlot(data = data, discretized = 'WinsRatio_Category'\n",
    "         , cut = 'WinRatio', title_label = 'Win Ratio', plot_xlabel = 'Win Ratio (%)' \n",
    "         , rotation = 90 , bins = bins, labels = labels)"
   ]
  },
  {
   "cell_type": "markdown",
   "metadata": {},
   "source": [
    "Distribution of Top 10:\n",
    "* Most players have not achieved a top 10 finish, which is roughly 6.9% of the data.\n",
    "\n",
    "Distribution of Top 10 Ratio:\n",
    "* Most players are in intervals of 9.00 - 9.99. Implies that you make 9 top 10 finishes out of 100 rounds played."
   ]
  },
  {
   "cell_type": "code",
   "execution_count": null,
   "metadata": {},
   "outputs": [],
   "source": [
    "## Top 10s and Top10 Ratio\n",
    "# Top 10s\n",
    "bins = [i for i in np.arange(0, 70, 1)] + [386]\n",
    "labels = [ str(i) for i in np.arange(0, 69, 1)] + ['69-386']\n",
    "CountPlot(data = data, discretized = 'Top10s_Category'\n",
    "         , cut = 'Top10s', title_label = 'Top 10s',  plot_xlabel = 'Top 10s' \n",
    "         , rotation = 90 , bins = bins, labels = labels)\n",
    "\n",
    "# Top10 Ratio\n",
    "bins =  [i for i in np.arange(0, 70, 1)] + [100]\n",
    "labels = [\"{0:.2f}\".format(i)+ '-' + \"{0:.2f}\".format(i+0.99) for i in np.arange(0, 69, 1)] + ['69.00-100']\n",
    "CountPlot(data = data, discretized = 'Top10Ratio_Category'\n",
    "         , cut = 'Top10Ratio', title_label = 'Top 10 Ratios' , plot_xlabel = 'Top 10 Ratio (%)' \n",
    "         , rotation = 90 , bins = bins, labels = labels)\n"
   ]
  },
  {
   "cell_type": "markdown",
   "metadata": {
    "collapsed": true
   },
   "source": [
    "Distance"
   ]
  },
  {
   "cell_type": "markdown",
   "metadata": {},
   "source": [
    "Distribution of Total Distance:\n",
    "* Most players are in the range of 0 - 19999 miles, which is about 12.1% of the data.\n",
    "* The average man will travel 110,000 miles in his lifetime, that is roughly 6x the reported amount from the majority of players.\n",
    "\n",
    "Distribution of Average Distance per game:\n",
    "* Most data is represented in the middle portion of 1800 - 3000 miles\n",
    "* The average man will travel 1,000 miles (driving) + 3.7 miles (walking). The order of magnitudes are the same "
   ]
  },
  {
   "cell_type": "code",
   "execution_count": null,
   "metadata": {},
   "outputs": [],
   "source": [
    "## Total Distance and Average Distance per game\n",
    "# Total Distance\n",
    "bins =  [i for i in range(0, 1260000 , 20000)] + [6.490221e+06]\n",
    "labels = [str(i)+ '-' + str(i+19999) for i in range(0,1240000,20000)] + ['1240000-6.490221e+06']\n",
    "CountPlot(data = data, discretized = 'TotalDistance_Category'\n",
    "         , cut = 'TotalDistance', title_label = 'Total Distance', plot_xlabel = 'Total Distance (m)' \n",
    "         , rotation = 90 , bins = bins, labels = labels)\n",
    "\n",
    "# Average Distance Per Game\n",
    "bins = [i for i in np.arange(0, 7100 , 100)] + [77000]\n",
    "labels = [str(i)+ '-' + str(i+99) for i in np.arange(0,7000,100)] + ['7000-77000']\n",
    "CountPlot(data = data, discretized = 'AvgTotalDistance_Category'\n",
    "         , cut = 'AvgTotalDistance', title_label = 'Average Distance', plot_xlabel = 'Average Distance (m)' \n",
    "         , rotation = 90 , bins = bins, labels = labels)\n"
   ]
  },
  {
   "cell_type": "markdown",
   "metadata": {},
   "source": [
    "Time Surived and Average Time Survived"
   ]
  },
  {
   "cell_type": "markdown",
   "metadata": {},
   "source": [
    "Distribution of Total Time Survived:\n",
    "* Most players are in the range of 0 - 9999 seconds, which is about 15.7% of the data.\n",
    "* The average man will live 22,075,000 seconds in his lifetime.\n",
    "\n",
    "Distribution of Average Time Survived Per Round:\n",
    "* Most data is represented in the middle portion of 900 - 999 seconds."
   ]
  },
  {
   "cell_type": "code",
   "execution_count": null,
   "metadata": {
    "scrolled": true
   },
   "outputs": [],
   "source": [
    "## Time Survived and Average Time Survived\n",
    "# Time Survived\n",
    "bins = [i for i in np.arange(0, 400000 , 10000)] + [1530000]\n",
    "labels = [str(i) + '-' + str(i+9999) for i in np.arange(0, 390000, 10000)] + ['390000-1530000']\n",
    "CountPlot(data = data, discretized = 'TimeSurvived_Category'\n",
    "         , cut = 'TimeSurvived', title_label = 'Time Survived', plot_xlabel = 'Time Survived (s)' \n",
    "         , rotation = 90 , bins = bins, labels = labels)\n",
    "\n",
    "# Average Time Survived Per Round\n",
    "bins = [i for i in np.arange(0, 1800, 100)] + [2200]\n",
    "labels = [str(i) + '-' + str(i+99) for i in np.arange(0, 1700 , 100)] + ['1610-2200']\n",
    "CountPlot(data = data, discretized = 'AvgSurvivalTime_Category'\n",
    "         , cut = 'AvgSurvivalTime', title_label = 'Average Time Survived', plot_xlabel = 'Average Time Survived (s)' \n",
    "         , rotation = 45 , bins = bins, labels = labels)\n"
   ]
  },
  {
   "cell_type": "markdown",
   "metadata": {},
   "source": [
    "### Rounds Played and Damage Per Game"
   ]
  },
  {
   "cell_type": "markdown",
   "metadata": {},
   "source": [
    "Distribution of Rounds Played:\n",
    "* Most players are in the range of 0 - 9 rounds, which is about 17.1% of the data.\n",
    "\n",
    "\n",
    "Distribution of Damage Per Round:\n",
    "* Most data is represented in the middle portion of 130 - 139 (DMG per Round), which is 6.0%."
   ]
  },
  {
   "cell_type": "code",
   "execution_count": null,
   "metadata": {},
   "outputs": [],
   "source": [
    "## Rounds Played and Damage Per Round\n",
    "# RoundsPlayed\n",
    "bins = [i for i in range(0, 480 , 10)] + [1682]\n",
    "labels = [str(i)+ '-' + str(i+9) for i in range(0,470,10)] + ['470 - 1682']\n",
    "\n",
    "CountPlot(data = data, discretized = 'RoundsPlayed_Category'\n",
    "         , cut = 'RoundsPlayed', title_label = 'Rounds Played', plot_xlabel = 'Rounds' \n",
    "         , rotation = 45 , bins = bins, labels = labels)\n",
    "\n",
    "# Damage Dealt\n",
    "bins = [i for i in range(0, 630 , 10)] + [2030]\n",
    "labels = [str(i)+ '-' + str(i+9) for i in range(0,620,10)] + ['620 - 1230']\n",
    "CountPlot(data = data, discretized = 'DamagePg_Category'\n",
    "         , cut = 'DamagePg', title_label = 'Damage Per Game', plot_xlabel = 'Damage' \n",
    "         , rotation = 90 , bins = bins, labels = labels)\n"
   ]
  },
  {
   "cell_type": "markdown",
   "metadata": {},
   "source": [
    "Bivariate Relations"
   ]
  },
  {
   "cell_type": "markdown",
   "metadata": {},
   "source": [
    "To examine bivariate relationships, we will use scatter plots and box plots. In order for the number of box plots to be minimal, we will be discretizing the features into intervals. The function below takes an input feature and outputs a 2D scatter plot and a boxplot containing discretized intervals. But what are we comparing? In this case, let's examine the features in the previous section with win ratios to see if we can obtain any features for prediciting win ratios"
   ]
  },
  {
   "cell_type": "markdown",
   "metadata": {},
   "source": [
    "It's also probably best to remove as much variability as possible by filtering out players that have lower than average number of rounds played"
   ]
  },
  {
   "cell_type": "code",
   "execution_count": null,
   "metadata": {},
   "outputs": [],
   "source": [
    "# Remove samples with a lower than the mean amount of rounds played\n",
    "train = train.drop(train[train['RoundsPlayed'] < train['RoundsPlayed'].mean()].index)\n",
    "dev = dev.drop(dev[dev['RoundsPlayed'] < dev['RoundsPlayed'].mean()].index)\n",
    "test = test.drop(test[test['RoundsPlayed'] < test['RoundsPlayed'].mean()].index)"
   ]
  },
  {
   "cell_type": "code",
   "execution_count": null,
   "metadata": {},
   "outputs": [],
   "source": [
    "data = train"
   ]
  },
  {
   "cell_type": "code",
   "execution_count": null,
   "metadata": {},
   "outputs": [],
   "source": [
    "data.corr(method = 'pearson')['WinRatio']"
   ]
  },
  {
   "cell_type": "code",
   "execution_count": null,
   "metadata": {},
   "outputs": [],
   "source": [
    "###Creates a seaborn scatter and boxplot by discretizing a column to change into an interval (category)\n",
    "## Use \n",
    "# 1) Discretize a feature: convert it from numerical to categorical\n",
    "# 2) Plot a scatter plot\n",
    "# 3) Plot a box plot\n",
    "## Function parameters:\n",
    "# data == dataframe\n",
    "# discretized == new feature (category)\n",
    "# cut == feature that is being\n",
    "# bins == the intervals\n",
    "# labels == string representations of the bins\n",
    "# x = x_axis of scatterplot\n",
    "# y = y_axis of scatterplot\n",
    "\n",
    "def ScatterBoxPlot(data, discretized, cut, bins, labels, x, y):\n",
    "    # Discretize the data\n",
    "    data[discretized] = pd.cut(data[cut], bins = bins, labels = labels)\n",
    "    \n",
    "    # Give a numerical label to the category\n",
    "    c = data[discretized].astype('category')\n",
    "    d = dict(enumerate(c.cat.categories))\n",
    "    box_code = discretized + '_' + 'code'\n",
    "    level_back = discretized + '_' + 'level_back'\n",
    "    data[box_code] = data[discretized].astype('category').cat.codes\n",
    "    data[level_back] = data[box_code].map(d) # we need this to color our boxplot\n",
    "    \n",
    "    # Scatter\n",
    "    fig = px.scatter(data, x=x , y=y , color = box_code)\n",
    "    fig.show()\n",
    "\n",
    "    # Boxplot\n",
    "    fig = px.box(data, x=discretized , y=y , color= box_code, category_orders= {discretized: labels})\n",
    "    fig.show()"
   ]
  },
  {
   "cell_type": "markdown",
   "metadata": {},
   "source": [
    "There is no clear indication of a relationship as there is a ton of variability"
   ]
  },
  {
   "cell_type": "code",
   "execution_count": null,
   "metadata": {
    "scrolled": true
   },
   "outputs": [],
   "source": [
    "# Kills\n",
    "bins = [i for i in range(0, 700, 100)] + [5600]\n",
    "labels = [str(i)+ '-' + str(i+99) for i in range(0,600,100)] + ['600.0-5600']\n",
    "ScatterBoxPlot(data = data, discretized = 'Kills_Box' , cut = 'Kills'\n",
    "               , bins = bins , labels = labels, x = 'Kills', y = 'WinRatio')\n"
   ]
  },
  {
   "cell_type": "markdown",
   "metadata": {},
   "source": [
    "In comparison with the kills, the KDR has variability, but there is a trend we can observe with win ratios. Higher KDAs tend to have higher win rates."
   ]
  },
  {
   "cell_type": "code",
   "execution_count": null,
   "metadata": {
    "scrolled": true
   },
   "outputs": [],
   "source": [
    "# KDR\n",
    "bins =  [i for i in np.arange(0, 10, 1)] + [110]\n",
    "labels = [\"{0:.2f}\".format(i)+ '-' + \"{0:.2f}\".format(i+0.99) for i in np.arange(0, 9, 1)] + ['9.0-100']\n",
    "\n",
    "ScatterBoxPlot(data = data, discretized = 'KillDeathRatio_Box' , cut = 'KillDeathRatio'\n",
    "               , bins = bins , labels = labels, x = 'KillDeathRatio', y = 'WinRatio')"
   ]
  },
  {
   "cell_type": "markdown",
   "metadata": {},
   "source": [
    "There is no clear indication of a relationship as there is a ton of variability"
   ]
  },
  {
   "cell_type": "code",
   "execution_count": null,
   "metadata": {},
   "outputs": [],
   "source": [
    "# Headshot\n",
    "bins = [i for i in range(0, 150, 10)] + [1500]\n",
    "labels = [str(i)+ '-' + str(i+9) for i in range(0,140,10)] + ['140-1500']\n",
    "\n",
    "ScatterBoxPlot(data = data, discretized = 'HeadshotKills_Box' , cut = 'HeadshotKills'\n",
    "               , bins = bins , labels = labels, x = 'HeadshotKills', y = 'WinRatio')"
   ]
  },
  {
   "cell_type": "markdown",
   "metadata": {},
   "source": [
    "There is no clear indication of a relationship as there is a ton of variability"
   ]
  },
  {
   "cell_type": "code",
   "execution_count": null,
   "metadata": {
    "scrolled": true
   },
   "outputs": [],
   "source": [
    "# Headshot Kill Ratio\n",
    "bins =  [i for i in np.arange(0, 0.55, 0.050)] + [1.1]\n",
    "labels = [\"{0:.3f}\".format(i)+ '-' + \"{0:.3f}\".format(i+0.049) for i in np.arange(0, 0.50, 0.050)] + ['0.50-1.00']\n",
    "ScatterBoxPlot(data = data, discretized = 'HeadshotKillRatio_Box' , cut = 'HeadshotKillRatio'\n",
    "               , bins = bins , labels = labels, x = 'HeadshotKillRatio', y = 'WinRatio')"
   ]
  },
  {
   "cell_type": "markdown",
   "metadata": {},
   "source": [
    "There seems to be a clear trend of greater top 10 ratios lead to high win ratios."
   ]
  },
  {
   "cell_type": "code",
   "execution_count": null,
   "metadata": {},
   "outputs": [],
   "source": [
    "# Top 10s\n",
    "bins =  [i for i in np.arange(0, 110, 10)]\n",
    "labels = [\"{0:.2f}\".format(i)+ '-' + \"{0:.2f}\".format(i+9.99) for i in np.arange(0, 100, 10)] \n",
    "ScatterBoxPlot(data = data, discretized = 'Top10Ratio_Box' , cut = 'Top10Ratio'\n",
    "               , bins = bins , labels = labels, x = 'Top10Ratio', y = 'WinRatio')"
   ]
  },
  {
   "cell_type": "markdown",
   "metadata": {},
   "source": [
    "Higher Damage Per game leads to a higher win rate"
   ]
  },
  {
   "cell_type": "code",
   "execution_count": null,
   "metadata": {
    "scrolled": true
   },
   "outputs": [],
   "source": [
    "# Damage per game\n",
    "bins = [i for i in range(0, 700 , 100)] + [2030]\n",
    "labels = [str(i)+ '-' + str(i+9) for i in range(0,600,100)] + ['510 - 2030']\n",
    "ScatterBoxPlot(data = data, discretized = 'DamagePg_Box' , cut = 'DamagePg'\n",
    "               , bins = bins , labels = labels, x = 'DamagePg', y = 'WinRatio')\n"
   ]
  },
  {
   "cell_type": "markdown",
   "metadata": {},
   "source": [
    "Rounds Played does not correlate with win ratio"
   ]
  },
  {
   "cell_type": "code",
   "execution_count": null,
   "metadata": {},
   "outputs": [],
   "source": [
    "# Rounds Played\n",
    "bins = [i for i in range(0, 550 , 50)] + [1682]\n",
    "labels = [str(i)+ '-' + str(i+49) for i in range(0,500,50)] + ['470 - 1682']\n",
    "\n",
    "ScatterBoxPlot(data = data, discretized = 'RoundsPlayed_Box' , cut = 'RoundsPlayed'\n",
    "               , bins = bins , labels = labels, x = 'RoundsPlayed', y = 'WinRatio')"
   ]
  },
  {
   "cell_type": "markdown",
   "metadata": {},
   "source": [
    "No clear indiciation of a trend"
   ]
  },
  {
   "cell_type": "code",
   "execution_count": null,
   "metadata": {
    "scrolled": true
   },
   "outputs": [],
   "source": [
    "# Time Survived\n",
    "bins = [i for i in np.arange(0, 500000 , 100000)] + [1530000]\n",
    "labels = [str(i) + '-' + str(i+99999) for i in np.arange(0, 400000, 100000)] + ['390000-1530000']\n",
    "ScatterBoxPlot(data = data, discretized = 'TimeSurvived_Box' , cut = 'TimeSurvived'\n",
    "               , bins = bins , labels = labels, x = 'TimeSurvived', y = 'WinRatio')"
   ]
  },
  {
   "cell_type": "markdown",
   "metadata": {},
   "source": [
    "There is a linear relationship"
   ]
  },
  {
   "cell_type": "code",
   "execution_count": null,
   "metadata": {
    "scrolled": true
   },
   "outputs": [],
   "source": [
    "# Average Time Survived\n",
    "bins = [i for i in np.arange(0, 2000, 200)] + [2200]\n",
    "labels = [str(i) + '-' + str(i+199) for i in np.arange(0, 1800 , 200)] + ['1800-2200']\n",
    "ScatterBoxPlot(data = data, discretized = 'AvgSurvivalTime_Box' , cut = 'AvgSurvivalTime'\n",
    "               , bins = bins , labels = labels, x = 'AvgSurvivalTime', y = 'WinRatio')\n"
   ]
  },
  {
   "cell_type": "markdown",
   "metadata": {},
   "source": [
    "No indication of a trend"
   ]
  },
  {
   "cell_type": "code",
   "execution_count": null,
   "metadata": {
    "scrolled": false
   },
   "outputs": [],
   "source": [
    "# Total Distance Survived\n",
    "bins =  [i for i in range(0, 1400000 , 200000)] + [6.490221e+06]\n",
    "labels = [str(i)+ '-' + str(i+199999) for i in range(0,1200000,200000)] + ['1200000-6500000']\n",
    "ScatterBoxPlot(data = data, discretized = 'TotalDistance_Box' , cut = 'TotalDistance'\n",
    "               , bins = bins , labels = labels, x = 'TotalDistance', y = 'WinRatio')"
   ]
  },
  {
   "cell_type": "markdown",
   "metadata": {},
   "source": [
    "Too much variability to decide"
   ]
  },
  {
   "cell_type": "code",
   "execution_count": null,
   "metadata": {},
   "outputs": [],
   "source": [
    "# Average Distance\n",
    "bins = [i for i in np.arange(0, 8000 , 1000)] + [77000]\n",
    "labels = [str(i)+ '-' + str(i+999) for i in np.arange(0,7000,1000)] + ['7000-77000']\n",
    "\n",
    "ScatterBoxPlot(data = data, discretized = 'AvgTotalDistance_Box' , cut = 'AvgTotalDistance'\n",
    "               , bins = bins , labels = labels, x = 'AvgTotalDistance', y = 'WinRatio')"
   ]
  },
  {
   "cell_type": "markdown",
   "metadata": {},
   "source": [
    "Analysis"
   ]
  },
  {
   "cell_type": "markdown",
   "metadata": {},
   "source": [
    "How many people who don't damage or kill anyone win games?"
   ]
  },
  {
   "cell_type": "code",
   "execution_count": null,
   "metadata": {
    "scrolled": false
   },
   "outputs": [],
   "source": [
    "Zero_Kills                = (data['Kills'] == 0).value_counts()\n",
    "Zero_Damage               = (data['DamagePg'] == 0).value_counts() \n",
    "Zero_Kills_or_Damage     = ((data['Kills'] == 0) | (data['DamagePg'] == 0)).value_counts()\n",
    "Zero_Kills_or_Damage_Win = (((data['Kills'] == 0 ) | (data['DamagePg'] == 0)) & (data['Wins'] >= 1)).value_counts()\n",
    "\n",
    "print(Zero_Kills)\n",
    "print(Zero_Damage)\n",
    "print(Zero_Kills_or_Damage)\n",
    "print(Zero_Kills_or_Damage_Win)"
   ]
  },
  {
   "cell_type": "markdown",
   "metadata": {},
   "source": [
    "The number of players with zero kills is 1062. Now, the number of players with zero damage is lower with 619. Now for the question whether a player can win without damaging or killing another player in this dataset, and the answer is NO!\n"
   ]
  },
  {
   "cell_type": "markdown",
   "metadata": {},
   "source": [
    "Does traveling more distance have a correlation to higher win rate? Let's analyze this by comparing the lower 50% and upper 50% of the population"
   ]
  },
  {
   "cell_type": "code",
   "execution_count": null,
   "metadata": {},
   "outputs": [],
   "source": [
    "## Do people who walk more than 50% of the population have higher win ratios?\n",
    "## Calculate upper half?\n",
    "x = data[(data['AvgTotalDistance'] > data['AvgTotalDistance'].quantile(0.50))]\n",
    "wins_upper = x['WinRatio'].mean()\n",
    "# Calculate lower half\n",
    "x = data[(data['AvgTotalDistance'] < data['AvgTotalDistance'].quantile(0.50))]\n",
    "wins_lower = x['WinRatio'].mean()\n",
    "winratio_mean = data['WinRatio'].mean()\n",
    "\n",
    "\n",
    "sns.set(style=\"white\", rc={\"lines.linewidth\": 3})\n",
    "fig, ax1 = plt.subplots(figsize=(4,4))\n",
    "ax2 = ax1.twinx()\n",
    "sns.barplot(y = [wins_lower, wins_upper, winratio_mean], x = ['<50%', '>50%', 'Win Ratio Mean'], ax = ax1)\n",
    "sns.lineplot(x=['<50%',' > 50%','Mean'], \n",
    "             #y=[wins_lower, wins_upper, winratio_mean],\n",
    "             y=[wins_upper , wins_lower, winratio_mean],\n",
    "             color='r',\n",
    "             marker=\"o\",\n",
    "             ax=ax1)\n",
    "plt.show()\n",
    "sns.set()\n",
    "\n",
    "print(wins_lower)\n",
    "print(wins_upper)\n",
    "print(winratio_mean)"
   ]
  },
  {
   "cell_type": "markdown",
   "metadata": {},
   "source": [
    "The lower end of the spectrum has a 2.73 win ratio, the other end of the spectrum has a 7.31 win ratio, and the mean is 5.02 winratio. With this in mind, having a higher average traveling distance can lead to a greater win ratio!"
   ]
  },
  {
   "cell_type": "markdown",
   "metadata": {},
   "source": [
    "Does surviving time have a correlation to higher win rate? Let's analyze this by comparing the lower 50% and upper 50% of the population"
   ]
  },
  {
   "cell_type": "code",
   "execution_count": null,
   "metadata": {
    "scrolled": false
   },
   "outputs": [],
   "source": [
    "## Do people who survive longer than 50% of the population have higher win ratios?\n",
    "## Calculate upper half?\n",
    "x = data[(data['AvgSurvivalTime'] > data['AvgSurvivalTime'].quantile(0.50))]\n",
    "wins_upper = x['WinRatio'].mean()\n",
    "# Calculate lower half\n",
    "x = data[(data['AvgSurvivalTime'] < data['AvgSurvivalTime'].quantile(0.50))]\n",
    "wins_lower = x['WinRatio'].mean()\n",
    "winratio_mean = data['WinRatio'].mean()\n",
    "\n",
    "\n",
    "\n",
    "sns.set(style=\"white\", rc={\"lines.linewidth\": 3})\n",
    "fig, ax1 = plt.subplots(figsize=(4,4))\n",
    "ax2 = ax1.twinx()\n",
    "sns.barplot(y = [wins_lower, wins_upper, winratio_mean], x = ['<50%', '>50%', 'Win Ratio Mean'], ax = ax1)\n",
    "sns.lineplot(x=['<50%',' > 50%','Mean'], \n",
    "             #y=[wins_lower, wins_upper, winratio_mean],\n",
    "             y=[wins_upper , wins_lower, winratio_mean],\n",
    "             color='purple',\n",
    "             marker=\"o\",\n",
    "             ax=ax1)\n",
    "plt.show()\n",
    "sns.set()\n",
    "\n",
    "print(wins_lower)\n",
    "print(wins_upper)\n",
    "print(winratio_mean)\n",
    "\n",
    "\n"
   ]
  },
  {
   "cell_type": "markdown",
   "metadata": {},
   "source": [
    "Does surviving time have a correlation to higher KDRs? Let's analyze this by comparing the lower 50% and upper 50% of the population"
   ]
  },
  {
   "cell_type": "code",
   "execution_count": null,
   "metadata": {},
   "outputs": [],
   "source": [
    "## Do people who survive longer than 50% of the population have higher KDRs\n",
    "## Calculate upper half?\n",
    "x = data[(data['AvgSurvivalTime'] > data['AvgSurvivalTime'].quantile(0.50))]\n",
    "wins_upper = x['KillDeathRatio'].mean()\n",
    "# Calculate lower half\n",
    "x = data[(data['AvgSurvivalTime'] < data['AvgSurvivalTime'].quantile(0.50))]\n",
    "wins_lower = x['KillDeathRatio'].mean()\n",
    "winratio_mean =data['KillDeathRatio'].mean()\n",
    "\n",
    "sns.set(style=\"white\", rc={\"lines.linewidth\": 3})\n",
    "fig, ax1 = plt.subplots(figsize=(4,4))\n",
    "ax2 = ax1.twinx()\n",
    "sns.barplot(y = [wins_lower, wins_upper, winratio_mean],  x = ['<50%', '>50%', 'Win Ratio Mean'], ax = ax1)\n",
    "sns.lineplot(x=['<50%',' > 50%','Mean'], \n",
    "             #y=[wins_lower, wins_upper, winratio_mean],\n",
    "             y=[wins_upper , wins_lower, winratio_mean],\n",
    "             color='purple',\n",
    "             marker=\"o\",\n",
    "             ax=ax1)\n",
    "plt.show()\n",
    "sns.set()\n",
    "\n",
    "\n",
    "print(wins_upper)\n",
    "print(wins_lower)\n",
    "print(data['KillDeathRatio'].describe())"
   ]
  },
  {
   "cell_type": "markdown",
   "metadata": {},
   "source": [
    "What factors correlate to a higher average survival time?"
   ]
  },
  {
   "cell_type": "code",
   "execution_count": null,
   "metadata": {},
   "outputs": [],
   "source": [
    "g = sns.pairplot(data,\n",
    "                 x_vars=[\"KillsPg\", \"AvgTotalDistance\", 'KillDeathRatio',  'HeadshotKillRatio', 'WinRatio', 'Top10Ratio', 'RoundsPlayed'],\n",
    "                 y_vars=[\"AvgSurvivalTime\"])"
   ]
  },
  {
   "cell_type": "markdown",
   "metadata": {},
   "source": [
    "----------------------------------------------------------------------------------------------------------------------"
   ]
  },
  {
   "cell_type": "markdown",
   "metadata": {},
   "source": [
    "Clustering 3D (Selected Few Features)"
   ]
  },
  {
   "cell_type": "code",
   "execution_count": null,
   "metadata": {},
   "outputs": [],
   "source": [
    "# Select four features\n",
    "train_data = train.loc[:,['WinRatio', 'KillDeathRatio', \"HeadshotKillRatio\", \"Top10Ratio\"]]\n",
    "test_data = test.loc[:, ['WinRatio', 'KillDeathRatio', \"HeadshotKillRatio\", \"Top10Ratio\"]]\n",
    "\n"
   ]
  },
  {
   "cell_type": "code",
   "execution_count": null,
   "metadata": {},
   "outputs": [],
   "source": [
    "train_data.describe()"
   ]
  },
  {
   "cell_type": "code",
   "execution_count": null,
   "metadata": {},
   "outputs": [],
   "source": [
    "# Scale the data\n",
    "scaler = StandardScaler()\n",
    "X_train_std = scaler.fit_transform(train_data)\n",
    "X_test_std = scaler.transform(test_data)\n"
   ]
  },
  {
   "cell_type": "code",
   "execution_count": null,
   "metadata": {},
   "outputs": [],
   "source": [
    "# K means clustering of Training Data\n",
    "number_cluster = 3\n",
    "kmeans = KMeans(n_clusters=number_cluster).fit(X_train_std)\n",
    "labels = kmeans.labels_"
   ]
  },
  {
   "cell_type": "code",
   "execution_count": null,
   "metadata": {},
   "outputs": [],
   "source": [
    "# Example 3D \n",
    "import plotly.express as px\n",
    "election = px.data.election()\n",
    "fig = px.scatter_3d(election, x=\"Joly\", y=\"Coderre\", z=\"Bergeron\", color=\"winner\", size=\"total\", hover_name=\"district\",\n",
    "                  symbol=\"result\", color_discrete_map = {\"Joly\": \"blue\", \"Bergeron\": \"green\", \"Coderre\":\"red\"})\n",
    "fig.show()"
   ]
  },
  {
   "cell_type": "code",
   "execution_count": null,
   "metadata": {},
   "outputs": [],
   "source": [
    "def scatter3d_cluster(df, x, y, z, code ):\n",
    "    fig = px.scatter_3d(df, x=x, y=y, z=z, color = code)\n",
    "    return fig.show()"
   ]
  },
  {
   "cell_type": "code",
   "execution_count": null,
   "metadata": {},
   "outputs": [],
   "source": [
    "## 3D Plot of Training Data\n",
    "# Create and modify dataframe for the cluster column\n",
    "df_X_train_std = pd.DataFrame(X_train_std)\n",
    "df_X_train_std['cluster'] = pd.Series(labels, index=df_X_train_std.index)\n",
    "df_X_train_std.columns = ['Win Rate', 'KDR', \"Headshot Kill Ratio\", \"Top 10 Ratio\", 'cluster']\n",
    "\n",
    "# Plots of Win Rate, KDR, Headshott KIll Ratio\n",
    "scatter3d_cluster(df = df_X_train_std , x = 'Win Rate'\n",
    "                  , y = 'KDR', z = 'Headshot Kill Ratio', code = 'cluster' )\n",
    "\n",
    "scatter3d_cluster(df = df_X_train_std , x = 'Win Rate'\n",
    "                  , y = 'KDR', z = 'Top 10 Ratio', code = 'cluster' )\n"
   ]
  },
  {
   "cell_type": "code",
   "execution_count": null,
   "metadata": {},
   "outputs": [],
   "source": [
    "# # K means clustering of Training Data\n",
    "predict_labels = kmeans.predict(X_test_std)"
   ]
  },
  {
   "cell_type": "code",
   "execution_count": null,
   "metadata": {},
   "outputs": [],
   "source": [
    "## 3D Plot of Testing Data\n",
    "# Create and modify dataframe for the cluster column\n",
    "df_X_test_std = pd.DataFrame(X_test_std)\n",
    "df_X_test_std['cluster'] = pd.Series(predict_labels, index=df_X_test_std.index)\n",
    "df_X_test_std.columns = ['Win Rate', 'KDR', \"Headshot Kill Ratio\", \"Top 10 Ratio\", 'cluster']\n",
    "\n",
    "# Plots of Win Rate, KDR, Headshott KIll Ratio\n",
    "scatter3d_cluster(df = df_X_test_std , x = 'Win Rate'\n",
    "                  , y = 'KDR', z = 'Headshot Kill Ratio', code = 'cluster' )\n",
    "\n",
    "scatter3d_cluster(df = df_X_test_std , x = 'Win Rate'\n",
    "                  , y = 'KDR', z = 'Top 10 Ratio', code = 'cluster' )"
   ]
  },
  {
   "cell_type": "code",
   "execution_count": null,
   "metadata": {},
   "outputs": [],
   "source": []
  },
  {
   "cell_type": "markdown",
   "metadata": {},
   "source": [
    "PCA 3D Dimensions SELECTED FEW FEATURES"
   ]
  },
  {
   "cell_type": "markdown",
   "metadata": {},
   "source": [
    "Training"
   ]
  },
  {
   "cell_type": "code",
   "execution_count": null,
   "metadata": {},
   "outputs": [],
   "source": [
    "#Fitting the PCA algorithm with our Data\n",
    "pca = PCA().fit(X_train_std)#Plotting the Cumulative Summation of the Explained Variance\n",
    "plt.figure()\n",
    "plt.plot(np.cumsum(pca.explained_variance_ratio_))\n",
    "plt.xlabel('Number of Components')\n",
    "plt.ylabel('Variance (%)') #for each component\n",
    "plt.title('Pulsar Dataset Explained Variance')\n",
    "plt.show()\n",
    "# Explains why 2D PCA was better in clustering than 3D"
   ]
  },
  {
   "cell_type": "code",
   "execution_count": null,
   "metadata": {
    "scrolled": true
   },
   "outputs": [],
   "source": [
    "## Principle Components Analysis\n",
    "# Set PCA parameters\n",
    "pca = PCA(n_components=3)\n",
    "# Fit and transform\n",
    "principalComponents = pca.fit_transform(X_train_std)\n",
    "features = range(pca.n_components_)\n",
    "# Plot the expected variance\n",
    "plt.bar(features, pca.explained_variance_ratio_, color='black')\n",
    "plt.xlabel('PCA features')\n",
    "plt.ylabel('variance %')\n",
    "plt.xticks(features)\n",
    "# Create a dataframe for PCA_components\n",
    "PCA_components_train = pd.DataFrame(principalComponents)\n",
    "PCA_components_train.columns = ['PCA 1', 'PCA 2', \"PCA 3\"]"
   ]
  },
  {
   "cell_type": "code",
   "execution_count": null,
   "metadata": {},
   "outputs": [],
   "source": [
    "PCA_components_train.columns = ['PCA 1', 'PCA 2', \"PCA 3\"]\n",
    "scatter3d_cluster(df = PCA_components_train , x = 'PCA 1'\n",
    "                  , y = 'PCA 2', z = 'PCA 3', code = None)\n",
    "\n",
    "plt.scatter(PCA_components_train['PCA 1'], PCA_components_train['PCA 2'], alpha=.1, color='black')\n",
    "plt.xlabel('PCA 1')\n",
    "plt.ylabel('PCA 2')"
   ]
  },
  {
   "cell_type": "code",
   "execution_count": null,
   "metadata": {},
   "outputs": [],
   "source": [
    "ks = range(1, 10)\n",
    "inertias = []\n",
    "for k in ks:\n",
    "    # Create a KMeans instance with k clusters: model\n",
    "    model = KMeans(n_clusters=k)\n",
    "    \n",
    "    # Fit model to samples\n",
    "    model.fit(PCA_components_train.iloc[:,:3])\n",
    "    \n",
    "    # Append the inertia to the list of inertias\n",
    "    inertias.append(model.inertia_)\n",
    "    \n",
    "plt.plot(ks, inertias, '-o', color='black')\n",
    "plt.xlabel('number of clusters, k')\n",
    "plt.ylabel('inertia')\n",
    "plt.xticks(ks)\n",
    "plt.show()"
   ]
  },
  {
   "cell_type": "code",
   "execution_count": null,
   "metadata": {},
   "outputs": [],
   "source": [
    "# K means train\n",
    "number_cluster = 3\n",
    "kmeans = KMeans(n_clusters=number_cluster).fit(principalComponents)\n",
    "labels = kmeans.labels_"
   ]
  },
  {
   "cell_type": "code",
   "execution_count": null,
   "metadata": {
    "scrolled": true
   },
   "outputs": [],
   "source": [
    "## 3D Plot of Training Data\n",
    "# Create and modify dataframe for the cluster column\n",
    "PCA_components_train['cluster'] = pd.Series(labels, index=PCA_components_train.index)\n",
    "\n",
    "# Plots of PCA 1, PCA 2, PCA 3\n",
    "scatter3d_cluster(df = PCA_components_train , x = 'PCA 1'\n",
    "                  , y = 'PCA 2', z = 'PCA 3', code = 'cluster')"
   ]
  },
  {
   "cell_type": "markdown",
   "metadata": {},
   "source": [
    "Testing"
   ]
  },
  {
   "cell_type": "code",
   "execution_count": null,
   "metadata": {},
   "outputs": [],
   "source": [
    "# Transform the test set using the training set PCA fit\n",
    "principalComponents_test = pca.transform(X_test_std)\n",
    "\n",
    "\n",
    "# Create a dataframe for PCA_components\n",
    "PCA_components_test = pd.DataFrame(principalComponents_test)\n",
    "PCA_components_test.columns = ['PCA 1', 'PCA 2', \"PCA 3\"]\n"
   ]
  },
  {
   "cell_type": "code",
   "execution_count": null,
   "metadata": {},
   "outputs": [],
   "source": [
    "# # K means clustering of Testing Data\n",
    "predict_labels = kmeans.predict(principalComponents_test)"
   ]
  },
  {
   "cell_type": "code",
   "execution_count": null,
   "metadata": {},
   "outputs": [],
   "source": [
    "PCA_components_test['cluster'] = pd.Series(predict_labels, index=PCA_components_test.index)\n",
    "\n",
    "# Plots of PCA 1, PCA 2, PCA 3\n",
    "scatter3d_cluster(df = PCA_components_test , x = 'PCA 1'\n",
    "                  , y = 'PCA 2', z = 'PCA 3', code = 'cluster')\n"
   ]
  },
  {
   "cell_type": "markdown",
   "metadata": {},
   "source": [
    "Clustering 2D PCA 2D "
   ]
  },
  {
   "cell_type": "markdown",
   "metadata": {},
   "source": [
    "Clustering, Select two variables: Headshot and Kill-Death Ratio"
   ]
  },
  {
   "cell_type": "code",
   "execution_count": null,
   "metadata": {},
   "outputs": [],
   "source": [
    "train_data = train.loc[:,['WinRatio', 'KillDeathRatio', \"HeadshotKillRatio\", \"Top10Ratio\"]]\n",
    "test_data = test.loc[:, ['WinRatio', 'KillDeathRatio', \"HeadshotKillRatio\", \"Top10Ratio\"]]\n"
   ]
  },
  {
   "cell_type": "code",
   "execution_count": null,
   "metadata": {},
   "outputs": [],
   "source": [
    "print(train_data.describe())\n",
    "print(len(test_data))"
   ]
  },
  {
   "cell_type": "code",
   "execution_count": null,
   "metadata": {},
   "outputs": [],
   "source": [
    "# Scale the data\n",
    "scaler = StandardScaler()\n",
    "X_train_std = scaler.fit_transform(train_data)\n",
    "X_test_std = scaler.transform(test_data)\n"
   ]
  },
  {
   "cell_type": "code",
   "execution_count": null,
   "metadata": {},
   "outputs": [],
   "source": [
    "# K means clustering of Training Data\n",
    "number_cluster = 2\n",
    "kmeans = KMeans(n_clusters=number_cluster).fit(X_train_std)\n",
    "labels = kmeans.labels_"
   ]
  },
  {
   "cell_type": "code",
   "execution_count": null,
   "metadata": {},
   "outputs": [],
   "source": [
    "def scatter2d_cluster(df, x, y, code ):\n",
    "    fig = px.scatter(df, x=x, y=y, color = code)\n",
    "    return fig.show()"
   ]
  },
  {
   "cell_type": "code",
   "execution_count": null,
   "metadata": {},
   "outputs": [],
   "source": [
    "## 3D Plot of Training Data\n",
    "# Create and modify dataframe for the cluster column\n",
    "df_X_train_std = pd.DataFrame(X_train_std)\n",
    "df_X_train_std['cluster'] = pd.Series(labels, index=df_X_train_std.index)\n",
    "df_X_train_std.columns = ['Win Rate', 'KDR', \"Headshot Kill Ratio\", \"Top 10 Ratio\", 'cluster']\n",
    "\n",
    "# Plots of Win Rate, KDR, Headshott KIll Ratio\n",
    "scatter2d_cluster(df = df_X_train_std , x = 'KDR'\n",
    "                  , y = 'Win Rate',  code = 'cluster' )\n",
    "\n",
    "scatter2d_cluster(df = df_X_train_std , x = 'KDR'\n",
    "                  , y = 'Headshot Kill Ratio', code = 'cluster' )\n",
    "\n",
    "scatter2d_cluster(df = df_X_train_std , x = 'Headshot Kill Ratio'\n",
    "                  , y = 'Win Rate',  code = 'cluster' )\n",
    "\n",
    "scatter2d_cluster(df = df_X_train_std , x = 'KDR'\n",
    "                  , y = 'Top 10 Ratio', code = 'cluster' )\n",
    "\n",
    "scatter2d_cluster(df = df_X_train_std , x = 'Headshot Kill Ratio'\n",
    "                  , y = 'Top 10 Ratio', code = 'cluster' )\n"
   ]
  },
  {
   "cell_type": "code",
   "execution_count": null,
   "metadata": {},
   "outputs": [],
   "source": [
    "# # K means clustering of Training Data\n",
    "predict_labels = kmeans.predict(X_test_std)"
   ]
  },
  {
   "cell_type": "code",
   "execution_count": null,
   "metadata": {},
   "outputs": [],
   "source": [
    "## 3D Plot of Testing Data\n",
    "# Create and modify dataframe for the cluster column\n",
    "df_X_test_std = pd.DataFrame(X_test_std)\n",
    "df_X_test_std['cluster'] = pd.Series(predict_labels, index=df_X_test_std.index)\n",
    "df_X_test_std.columns = ['Win Rate', 'KDR', \"Headshot Kill Ratio\", \"Top 10 Ratio\", 'cluster']\n",
    "\n",
    "# Plots of Win Rate, KDR, Headshott KIll Ratio\n",
    "scatter2d_cluster(df = df_X_test_std , x = 'KDR'\n",
    "                  , y = 'Win Rate',  code = 'cluster' )\n",
    "\n",
    "scatter2d_cluster(df = df_X_test_std , x = 'KDR'\n",
    "                  , y = 'Headshot Kill Ratio', code = 'cluster' )\n",
    "\n",
    "scatter2d_cluster(df = df_X_test_std , x = 'Headshot Kill Ratio'\n",
    "                  , y = 'Win Rate',  code = 'cluster' )\n",
    "\n",
    "scatter2d_cluster(df = df_X_test_std , x = 'KDR'\n",
    "                  , y = 'Top 10 Ratio', code = 'cluster' )\n",
    "\n",
    "scatter2d_cluster(df = df_X_test_std , x = 'Headshot Kill Ratio'\n",
    "                  , y = 'Top 10 Ratio', code = 'cluster' )"
   ]
  },
  {
   "cell_type": "markdown",
   "metadata": {},
   "source": [
    "PCA 2D Dimensions SELECT FEW Features"
   ]
  },
  {
   "cell_type": "markdown",
   "metadata": {},
   "source": [
    "Training"
   ]
  },
  {
   "cell_type": "code",
   "execution_count": null,
   "metadata": {},
   "outputs": [],
   "source": [
    "#Fitting the PCA algorithm with our Data\n",
    "pca = PCA().fit(X_train_std)#Plotting the Cumulative Summation of the Explained Variance\n",
    "plt.figure()\n",
    "plt.plot(np.cumsum(pca.explained_variance_ratio_))\n",
    "plt.xlabel('Number of Components')\n",
    "plt.ylabel('Variance (%)') #for each component\n",
    "plt.title('Pulsar Dataset Explained Variance')\n",
    "plt.show()\n",
    "# Explains why 2D PCA was better in clustering than 3D"
   ]
  },
  {
   "cell_type": "code",
   "execution_count": null,
   "metadata": {
    "scrolled": true
   },
   "outputs": [],
   "source": [
    "## Principle Components Analysis\n",
    "# Set PCA parameters\n",
    "pca = PCA(n_components=2)\n",
    "# Fit and transform\n",
    "principalComponents = pca.fit_transform(X_train_std)\n",
    "features = range(pca.n_components_)\n",
    "# Plot the expected variance\n",
    "plt.bar(features, pca.explained_variance_ratio_, color='black')\n",
    "plt.xlabel('PCA features')\n",
    "plt.ylabel('variance %')\n",
    "plt.xticks(features)\n",
    "# Create a dataframe for PCA_components\n",
    "PCA_components_train = pd.DataFrame(principalComponents)\n",
    "PCA_components_train.columns = ['PCA 1', 'PCA 2']"
   ]
  },
  {
   "cell_type": "code",
   "execution_count": null,
   "metadata": {},
   "outputs": [],
   "source": [
    "PCA_components_train.columns = ['PCA 1', 'PCA 2']\n",
    "scatter2d_cluster(df = PCA_components_train , x = 'PCA 1'\n",
    "                  , y = 'PCA 2', code = None)\n",
    "\n",
    "plt.scatter(PCA_components_train['PCA 1'], PCA_components_train['PCA 2'], alpha=.1, color='black')\n",
    "plt.xlabel('PCA 1')\n",
    "plt.ylabel('PCA 2')"
   ]
  },
  {
   "cell_type": "code",
   "execution_count": null,
   "metadata": {},
   "outputs": [],
   "source": [
    "ks = range(1, 10)\n",
    "inertias = []\n",
    "for k in ks:\n",
    "    # Create a KMeans instance with k clusters: model\n",
    "    model = KMeans(n_clusters=k)\n",
    "    \n",
    "    # Fit model to samples\n",
    "    model.fit(PCA_components_train.iloc[:,:3])\n",
    "    \n",
    "    # Append the inertia to the list of inertias\n",
    "    inertias.append(model.inertia_)\n",
    "    \n",
    "plt.plot(ks, inertias, '-o', color='black')\n",
    "plt.xlabel('number of clusters, k')\n",
    "plt.ylabel('inertia')\n",
    "plt.xticks(ks)\n",
    "plt.show()"
   ]
  },
  {
   "cell_type": "code",
   "execution_count": null,
   "metadata": {},
   "outputs": [],
   "source": [
    "# K means train #2\n",
    "number_cluster = 2\n",
    "kmeans = KMeans(n_clusters=number_cluster).fit(principalComponents)\n",
    "labels = kmeans.labels_"
   ]
  },
  {
   "cell_type": "code",
   "execution_count": null,
   "metadata": {
    "scrolled": true
   },
   "outputs": [],
   "source": [
    "## 3D Plot of Training Data\n",
    "# Create and modify dataframe for the cluster column\n",
    "PCA_components_train['cluster'] = pd.Series(labels, index=PCA_components_train.index)\n",
    "\n",
    "# Plots of PCA 1, PCA 2, PCA 3\n",
    "scatter2d_cluster(df = PCA_components_train , x = 'PCA 1'\n",
    "                  , y = 'PCA 2', code = 'cluster')"
   ]
  },
  {
   "cell_type": "markdown",
   "metadata": {},
   "source": [
    "Testing"
   ]
  },
  {
   "cell_type": "code",
   "execution_count": null,
   "metadata": {},
   "outputs": [],
   "source": [
    "# Transform the test set using the training set PCA fit\n",
    "principalComponents_test = pca.transform(X_test_std)\n",
    "\n",
    "\n",
    "# Create a dataframe for PCA_components\n",
    "PCA_components_test = pd.DataFrame(principalComponents_test)\n",
    "PCA_components_test.columns = ['PCA 1', 'PCA 2']\n"
   ]
  },
  {
   "cell_type": "code",
   "execution_count": null,
   "metadata": {},
   "outputs": [],
   "source": [
    "# # K means clustering of Testing Data\n",
    "predict_labels = kmeans.predict(principalComponents_test)"
   ]
  },
  {
   "cell_type": "code",
   "execution_count": null,
   "metadata": {},
   "outputs": [],
   "source": [
    "PCA_components_test['cluster'] = pd.Series(predict_labels, index=PCA_components_test.index)\n",
    "\n",
    "# Plots of PCA 1, PCA 2, PCA 3\n",
    "scatter2d_cluster(df = PCA_components_test , x = 'PCA 1'\n",
    "                  , y = 'PCA 2',  code = 'cluster')\n"
   ]
  },
  {
   "cell_type": "markdown",
   "metadata": {},
   "source": [
    "PCA ALL FEATURES 2D"
   ]
  },
  {
   "cell_type": "code",
   "execution_count": null,
   "metadata": {},
   "outputs": [],
   "source": [
    "train_data = train\n",
    "test_data = test\n",
    "\n",
    "\n"
   ]
  },
  {
   "cell_type": "code",
   "execution_count": null,
   "metadata": {},
   "outputs": [],
   "source": [
    "# Drop Revives because this is solo\n",
    "train_data.drop(columns = ['Revives'], inplace=True)\n",
    "test_data.drop(columns = ['Revives'], inplace=True)"
   ]
  },
  {
   "cell_type": "code",
   "execution_count": null,
   "metadata": {},
   "outputs": [],
   "source": [
    "# Scale the data\n",
    "scaler = StandardScaler()\n",
    "X_train_std = scaler.fit_transform(train_data)\n",
    "X_test_std = scaler.transform(test_data)\n"
   ]
  },
  {
   "cell_type": "code",
   "execution_count": null,
   "metadata": {},
   "outputs": [],
   "source": [
    "#Fitting the PCA algorithm with our Data\n",
    "pca = PCA().fit(X_train_std)#Plotting the Cumulative Summation of the Explained Variance\n",
    "plt.figure()\n",
    "plt.plot(np.cumsum(pca.explained_variance_ratio_))\n",
    "plt.xlabel('Number of Components')\n",
    "plt.ylabel('Variance (%)') #for each component\n",
    "plt.title('Pulsar Dataset Explained Variance')\n",
    "plt.show()"
   ]
  },
  {
   "cell_type": "code",
   "execution_count": null,
   "metadata": {},
   "outputs": [],
   "source": [
    "## Principle Components Analysis\n",
    "# Set PCA parameters\n",
    "pca = PCA(n_components=30)\n",
    "# Fit and transform\n",
    "principalComponents = pca.fit_transform(X_train_std)\n",
    "features = range(pca.n_components_)\n",
    "# Plot the expected variance\n",
    "plt.bar(features, pca.explained_variance_ratio_, color='black')\n",
    "plt.xlabel('PCA features')\n",
    "plt.ylabel('variance %')\n",
    "plt.xticks(features)\n",
    "# Create a dataframe for PCA_components\n",
    "PCA_components_train = pd.DataFrame(principalComponents)\n",
    "PCA_components_train.columns = ['PCA' + ' ' + str(i+1) for i in features]\n",
    "print('Explained variation per principal component: {}'.format(pca.explained_variance_ratio_))\n",
    "print((pca.explained_variance_ratio_).sum())\n"
   ]
  },
  {
   "cell_type": "code",
   "execution_count": null,
   "metadata": {},
   "outputs": [],
   "source": [
    "scatter2d_cluster(df = PCA_components_train , x = 'PCA 1'\n",
    "                  , y = 'PCA 2', code = None)\n",
    "\n",
    "plt.scatter(PCA_components_train['PCA 1'], PCA_components_train['PCA 2'], alpha=.1, color='black')\n",
    "plt.xlabel('PCA 1')\n",
    "plt.ylabel('PCA 2')"
   ]
  },
  {
   "cell_type": "code",
   "execution_count": null,
   "metadata": {},
   "outputs": [],
   "source": [
    "ks = range(1, 10)\n",
    "inertias = []\n",
    "for k in ks:\n",
    "    # Create a KMeans instance with k clusters: model\n",
    "    model = KMeans(n_clusters=k)\n",
    "    \n",
    "    # Fit model to samples\n",
    "    model.fit(PCA_components_train.iloc[:,:3])\n",
    "    \n",
    "    # Append the inertia to the list of inertias\n",
    "    inertias.append(model.inertia_)\n",
    "    \n",
    "plt.plot(ks, inertias, '-o', color='black')\n",
    "plt.xlabel('number of clusters, k')\n",
    "plt.ylabel('inertia')\n",
    "plt.xticks(ks)\n",
    "plt.show()"
   ]
  },
  {
   "cell_type": "code",
   "execution_count": null,
   "metadata": {},
   "outputs": [],
   "source": [
    "# K means train #2\n",
    "number_cluster = 2\n",
    "kmeans = KMeans(n_clusters=number_cluster).fit(principalComponents)\n",
    "labels = kmeans.labels_"
   ]
  },
  {
   "cell_type": "code",
   "execution_count": null,
   "metadata": {},
   "outputs": [],
   "source": [
    "def scatter2d_cluster(df, x, y, code ):\n",
    "    fig = px.scatter(df, x=x, y=y, color = code)\n",
    "    return fig.show()"
   ]
  },
  {
   "cell_type": "code",
   "execution_count": null,
   "metadata": {},
   "outputs": [],
   "source": [
    "## 3D Plot of Training Data\n",
    "# Create and modify dataframe for the cluster column\n",
    "PCA_components_train['cluster'] = pd.Series(labels, index=PCA_components_train.index)\n",
    "\n",
    "# Plots of PCA 1, PCA 2, PCA 3\n",
    "scatter2d_cluster(df = PCA_components_train , x = 'PCA 1'\n",
    "                  , y = 'PCA 2', code = 'cluster')"
   ]
  },
  {
   "cell_type": "markdown",
   "metadata": {},
   "source": [
    "Testing"
   ]
  },
  {
   "cell_type": "code",
   "execution_count": null,
   "metadata": {},
   "outputs": [],
   "source": [
    "# Transform the test set using the training set PCA fit\n",
    "principalComponents_test = pca.transform(X_test_std)\n",
    "\n",
    "\n",
    "# Create a dataframe for PCA_components\n",
    "PCA_components_test = pd.DataFrame(principalComponents_test)\n",
    "PCA_components_test.columns = ['PCA' + ' ' + str(i+1) for i in features]\n"
   ]
  },
  {
   "cell_type": "code",
   "execution_count": null,
   "metadata": {},
   "outputs": [],
   "source": [
    "# # K means clustering of Testing Data\n",
    "predict_labels = kmeans.predict(principalComponents_test)"
   ]
  },
  {
   "cell_type": "code",
   "execution_count": null,
   "metadata": {
    "scrolled": false
   },
   "outputs": [],
   "source": [
    "PCA_components_test['cluster'] = pd.Series(predict_labels, index=PCA_components_test.index)\n",
    "\n",
    "# Plots of PCA 1, PCA 2, PCA 3\n",
    "scatter2d_cluster(df = PCA_components_test , x = 'PCA 1'\n",
    "                  , y = 'PCA 2',  code = 'cluster')\n"
   ]
  },
  {
   "cell_type": "markdown",
   "metadata": {},
   "source": [
    "3D"
   ]
  },
  {
   "cell_type": "code",
   "execution_count": null,
   "metadata": {},
   "outputs": [],
   "source": [
    "def scatter3d_cluster(df, x, y, z, code ):\n",
    "    fig = px.scatter_3d(df, x=x, y=y, z=z, color = code)\n",
    "    return fig.show()"
   ]
  },
  {
   "cell_type": "code",
   "execution_count": null,
   "metadata": {},
   "outputs": [],
   "source": [
    "## 3D Plot of Training Data\n",
    "# Create and modify dataframe for the cluster column\n",
    "PCA_components_train['cluster'] = pd.Series(labels, index=PCA_components_train.index)\n",
    "\n",
    "# Plots of PCA 1, PCA 2, PCA 3\n",
    "scatter3d_cluster(df = PCA_components_train , x = 'PCA 1'\n",
    "                  , y = 'PCA 2', z = 'PCA 3', code = 'cluster')"
   ]
  },
  {
   "cell_type": "code",
   "execution_count": null,
   "metadata": {},
   "outputs": [],
   "source": [
    "PCA_components_test['cluster'] = pd.Series(predict_labels, index=PCA_components_test.index)\n",
    "\n",
    "# Plots of PCA 1, PCA 2, PCA 3\n",
    "scatter3d_cluster(df = PCA_components_test , x = 'PCA 1'\n",
    "                  , y = 'PCA 2', z = 'PCA 3', code = 'cluster')\n"
   ]
  }
 ],
 "metadata": {
  "kernelspec": {
   "display_name": "Python 3",
   "language": "python",
   "name": "python3"
  },
  "language_info": {
   "codemirror_mode": {
    "name": "ipython",
    "version": 3
   },
   "file_extension": ".py",
   "mimetype": "text/x-python",
   "name": "python",
   "nbconvert_exporter": "python",
   "pygments_lexer": "ipython3",
   "version": "3.7.0"
  }
 },
 "nbformat": 4,
 "nbformat_minor": 2
}
