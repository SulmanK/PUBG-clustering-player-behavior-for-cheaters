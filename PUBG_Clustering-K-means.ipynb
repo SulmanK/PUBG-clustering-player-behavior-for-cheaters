{
 "cells": [
  {
   "cell_type": "markdown",
   "metadata": {},
   "source": [
    "![PUBG_Logo](assets/PUBG_logo.png)"
   ]
  },
  {
   "cell_type": "markdown",
   "metadata": {},
   "source": [
    "## Objective\n",
    "* Employ K-means clustering algorithm on dataset.\n",
    "* Discuss pertinent results.\n",
    "\n",
    "## Background Information\n",
    "* Playerunknown's Battleground (PUBG) is a video game, which set the standard for preceding games in the Battle Royale Genre. The main goal is to SURVIVE at all costs.\n",
    "\n",
    "## Process:\n",
    "* Exploratory Data Analysis conducted utilizing various python packages (Numpy, Matplotlib, Pandas, and Plotly).\n",
    "* K-means clustering algorithm (Sci-Kit Learn)\n",
    "\n",
    "\n",
    "## Table of Contents:\n",
    "* Part I: Exploratory Data Analysis\n",
    "    * EDA\n",
    "* Part II: K - means clustering\n",
    "    * 3D\n",
    "        * Two Clusters\n",
    "        * Four Clusters\n",
    "    * 2D\n",
    "        * Two Clusters\n",
    "        * Four Clusters\n"
   ]
  },
  {
   "cell_type": "code",
   "execution_count": null,
   "metadata": {},
   "outputs": [],
   "source": [
    "from sklearn.cluster import KMeans\n",
    "from sklearn import metrics\n",
    "from sklearn.decomposition import PCA\n",
    "from sklearn.model_selection import train_test_split\n",
    "from sklearn.preprocessing import StandardScaler\n",
    "\n",
    "import matplotlib as mpl\n",
    "import matplotlib.pyplot as plt\n",
    "import numpy as np\n",
    "import pandas as pd\n",
    "import plotly.express as px\n",
    "import seaborn as sns"
   ]
  },
  {
   "cell_type": "markdown",
   "metadata": {},
   "source": [
    "# PART I - Exploratory Data Analysis"
   ]
  },
  {
   "cell_type": "markdown",
   "metadata": {},
   "source": [
    "### Data Preprocessing / Feature Engineering"
   ]
  },
  {
   "cell_type": "markdown",
   "metadata": {},
   "source": [
    "Let us begin by reading in the CSV file containing the data, and examining the data contents such as the number of features and rows. It seems there are 152 column entries (features) and 87898 row entries (number of samples)."
   ]
  },
  {
   "cell_type": "code",
   "execution_count": null,
   "metadata": {},
   "outputs": [],
   "source": [
    "#--------- Pandas Dataframe\n",
    "## Read in CSVhttp://localhost:8888/notebooks/OneDrive/Documents/Data%20Science/Projects/PUBG_EDA_Clustering/assets/PUBG_logo.png\n",
    "orig = pd.read_csv('data/PUBG_Player_Statistics.csv')"
   ]
  },
  {
   "cell_type": "markdown",
   "metadata": {},
   "source": [
    "Now, let us remove and combine features, which do not pertain to our goal of clustering solo player behavior. \n",
    "\n",
    "Remove:\n",
    "* player_name\n",
    "* tracker_id\n",
    "* duo\n",
    "* squad\n",
    "\n",
    "Add:\n",
    "* Total Distance\n",
    "\n",
    "This can be achieved by removing all columns after the 52nd. Also, create a new feature that combines the walking and riding distance.\n",
    "\n",
    "Also, we will reduce the variance in the data by removing players with less than the mean number of rounds in our data."
   ]
  },
  {
   "cell_type": "code",
   "execution_count": null,
   "metadata": {},
   "outputs": [],
   "source": [
    "#---------Preprocessing\n",
    "## Create a copy of the dataframe\n",
    "df = orig.copy()\n",
    "cols = np.arange(52, 152, 1)\n",
    "\n",
    "# Drop entries if they have null values\n",
    "df.dropna(inplace = True)\n",
    "\n",
    "## Drop columns after the 52nd index\n",
    "df.drop(df.columns[cols], axis = 1, inplace = True)\n",
    "\n",
    "## Drop player_name and tracker id\n",
    "df.drop(df.columns[[0, 1]], axis = 1, inplace = True)\n",
    "\n",
    "## Drop Knockout and Revives\n",
    "df.drop(df.columns[[49]], axis = 1, inplace = True)\n",
    "df.drop(columns = ['solo_Revives'], inplace = True)\n",
    "\n",
    "## Drop the string solo from all strings\n",
    "df.rename(columns = lambda x: x.lstrip('solo_').rstrip(''), inplace = True)\n",
    "\n",
    "## Combine a few columns \n",
    "df['TotalDistance'] = df['WalkDistance'] + df['RideDistance']\n",
    "df['AvgTotalDistance'] = df['AvgWalkDistance'] + df['AvgRideDistance']\n",
    "\n",
    "# Remove Outliers\n",
    "df = df.drop(df[df['RoundsPlayed'] < df['RoundsPlayed'].mean()].index)"
   ]
  },
  {
   "cell_type": "markdown",
   "metadata": {},
   "source": [
    "Split the data into three sets: train, dev, and test set."
   ]
  },
  {
   "cell_type": "code",
   "execution_count": null,
   "metadata": {},
   "outputs": [],
   "source": [
    "# Create train and test set using Sci-Kit Learn\n",
    "train, test = train_test_split(df, test_size=0.3, random_state = 10)\n",
    "dev, test = train_test_split(test, test_size = 0.2, random_state = 10)\n",
    "data = train\n",
    "\n",
    "print(\"The number of training samples is\", len(train))\n",
    "print(\"The number of development samples is\", len(dev))\n",
    "print(\"The number of testing samples is\", len(test))"
   ]
  },
  {
   "cell_type": "markdown",
   "metadata": {},
   "source": [
    "It is important we go through the final output to make sure that are data preprocessing is complete. And it looks great!"
   ]
  },
  {
   "cell_type": "code",
   "execution_count": null,
   "metadata": {},
   "outputs": [],
   "source": [
    "with pd.option_context('display.max_columns', 52):\n",
    "    print(data.describe(include = 'all'))\n",
    "\n"
   ]
  },
  {
   "cell_type": "markdown",
   "metadata": {},
   "source": [
    "The only factors above which have a positive correlation to average survival time are Average Total Distance, Win Ratio, and Top 10 Ratio."
   ]
  },
  {
   "cell_type": "markdown",
   "metadata": {},
   "source": [
    "# PART 2 - Clustering"
   ]
  },
  {
   "cell_type": "markdown",
   "metadata": {},
   "source": [
    "Procedure: \n",
    "* 3D\n",
    "    * Two Clusters\n",
    "    * Four Clusters\n",
    "* 2D\n",
    "    * Two Clusters\n",
    "    * Four Clusters"
   ]
  },
  {
   "cell_type": "markdown",
   "metadata": {},
   "source": [
    "### Clustering in 3D (Selected Few Features)"
   ]
  },
  {
   "cell_type": "markdown",
   "metadata": {},
   "source": [
    "We selected the following features because of experts and my domain experience playing PUBG."
   ]
  },
  {
   "cell_type": "code",
   "execution_count": null,
   "metadata": {},
   "outputs": [],
   "source": [
    "# Select four features\n",
    "train_data = train.loc[:,['KillDeathRatio', \"HeadshotKillRatio\", 'WinRatio' , \"Top10Ratio\"]]\n",
    "dev_data = dev.loc[:,['KillDeathRatio', \"HeadshotKillRatio\", 'WinRatio' , \"Top10Ratio\"]]\n",
    "test_data = test.loc[:,['KillDeathRatio', \"HeadshotKillRatio\", 'WinRatio' , \"Top10Ratio\"]]"
   ]
  },
  {
   "cell_type": "markdown",
   "metadata": {},
   "source": [
    "Feature scaling is utilized to make sure all features are normalized and have similar orders of magnitude. This is important because our clustering algorithms look into calculating the distance between points. In our case, we employed a zero-mean and unit-variance scaling."
   ]
  },
  {
   "cell_type": "code",
   "execution_count": null,
   "metadata": {},
   "outputs": [],
   "source": [
    "# Scale the data (Normaliz)\n",
    "scaler = StandardScaler()\n",
    "X_train_std = scaler.fit_transform(train_data)\n",
    "X_dev_std = scaler.transform(dev_data)\n",
    "X_test_std = scaler.transform(test_data)"
   ]
  },
  {
   "cell_type": "markdown",
   "metadata": {},
   "source": [
    "#### K-means clustering\n"
   ]
  },
  {
   "cell_type": "markdown",
   "metadata": {},
   "source": [
    "K-means clustering is an algorithm to classify or to group objects based on attributes/features into K number of groups [1]. The grouping is done by minimizing the sum of square of distances between data and the corresponding cluster centroid."
   ]
  },
  {
   "cell_type": "markdown",
   "metadata": {},
   "source": [
    "##### Algorithm\n",
    "1. Select K points randomly from the dataset as the centroids of the clusters.\n",
    "2. Assign data points to centroids closest to it.\n",
    "3. Recompute the centroid so that it is closest to all the data points allocated to that cluster.\n",
    "4. Repeat step 2 and 3 until the algorithm converges. \n"
   ]
  },
  {
   "cell_type": "markdown",
   "metadata": {},
   "source": [
    "##### Parameters\n",
    "\n",
    "In K-means clustering, we'll be examining two parameters:\n",
    "* How clusters are initialized\n",
    "* The number of clusters"
   ]
  },
  {
   "cell_type": "markdown",
   "metadata": {},
   "source": [
    "###### Initialization\n",
    "\n",
    "Standard k-means clustering has a challenge initializing the cluster centroids. If a wrong cluster initialization is set, the clusters will be wrong.  We'll be using the K-means +++ initialization to solve this issue by first initializing the cluster centroids before following the standard k-means clustering algorithm. \n",
    "\n",
    "\n",
    "1. The first cluster is chosen uniformly at random from the data points that we want to cluster. This is similar to what we do in K-Means, but instead of randomly picking all the centroids, we just pick one centroid here\n",
    "2. Compute the distance (D(x)) of each data point (x) from the cluster center that has already been chosen\n",
    "3. Choose the new cluster center from the data points with the probability of x being proportional to (D(x))2\n",
    "4. Repeat steps 2 and 3 until k clusters have been chosen\n"
   ]
  },
  {
   "cell_type": "markdown",
   "metadata": {},
   "source": [
    "###### Optimal Number of Clusters\n",
    "Now, we'll want to identify the optimal number of clusters [2]. We'll use the inertia between clusters and silhouette analysis as our internal scoring metrics because we do not have access to correctly labeled data.\n",
    "\n",
    "\n",
    "Inertia is the within-cluster sum of squares. It calculates the variance of points in each cluster.\n",
    "\n",
    "Silhouette Analysis measures the similarity of points in a cluster and the dissimilarity of points in neighboring clusters.\n",
    "\n",
    "For our problem, SA provides a better solution because we are not looking for how points are similar in each cluster, but how they are separated.\n",
    "\n",
    "------------------------------------------------------------------------------------------------------------------\n",
    "We plot the number of clusters vs the inertia, to identify the optimal number of clusters by selecting the number that is the elbow-point in the graph, or the point in which the graph doesn't have a steep slope.\n",
    "\n",
    "The elbow point is 4, but 5 or 6 are adequate choices too.\n"
   ]
  },
  {
   "cell_type": "code",
   "execution_count": null,
   "metadata": {
    "scrolled": true
   },
   "outputs": [],
   "source": [
    "# The number of clusters from 1 to 10\n",
    "ks = range(1, 10)\n",
    "\n",
    "inertias = []\n",
    "for k in ks:\n",
    "    # Create a KMeans instance with k clusters: model\n",
    "    model = KMeans(n_clusters=k, init='k-means++', random_state = 10)\n",
    "    \n",
    "    # Fit model to samples\n",
    "    model.fit(X_train_std)\n",
    "    \n",
    "    # Append the inertia to the list of inertias\n",
    "    inertias.append(model.inertia_)\n",
    "    print('Inertia for %i Clusters: %0.4f' % (k, model.inertia_))\n",
    "\n",
    "# Plot parameters\n",
    "plt.figure(figsize = (20, 10))\n",
    "plt.plot(ks, inertias, '-o', color = 'black')\n",
    "plt.plot(4, inertias[3], '-o', color = 'red', markersize = 12)\n",
    "plt.xlabel('Number of clusters', fontsize = 24)\n",
    "plt.ylabel('Inertia', fontsize = 24)\n",
    "plt.title('Optimal number of clusters (Inertia)', fontsize = 24)\n",
    "plt.xticks(ks, fontsize = 18)\n",
    "plt.yticks(fontsize = 18)\n",
    "\n",
    "\n",
    "\n",
    "plt.show()"
   ]
  },
  {
   "cell_type": "markdown",
   "metadata": {},
   "source": [
    "Silhouette analysis studies how similar and dissimilar neighboring cluster centroids are. We select the point which is closest to +1. In our case, two clusters have the greatest value following with four clusters.\n",
    "\n",
    "Being able to distinguish between a player and a hacker by having two clusters is the perfect solution. But from my experience, I feel there would be more segmentation than a cheater and a player such as\n",
    "* Beginner\n",
    "* Experienced\n",
    "* Professional\n",
    "* Hacker\n",
    "\n",
    "Nevertheless, we will explore all possible outcomes."
   ]
  },
  {
   "cell_type": "code",
   "execution_count": null,
   "metadata": {
    "scrolled": true
   },
   "outputs": [],
   "source": [
    "# Number of clusters\n",
    "ks = range(2, 10)\n",
    "score = []\n",
    "\n",
    "# Silhouette Method\n",
    "for k in ks:\n",
    "    kmeans = KMeans(n_clusters = k, init='k-means++', random_state = 10).fit(X_train_std)\n",
    "    ss = metrics.silhouette_score(X_train_std, kmeans.labels_, sample_size = 10000)\n",
    "    score.append(ss)\n",
    "    print('Silhouette Score for %i Clusters: %0.4f' % (k, ss))\n",
    "\n",
    "# Plot Parameters\n",
    "plt.figure(figsize = (20, 10))\n",
    "plt.plot(ks, score, '-o', color = 'blue')\n",
    "s = ['D', 'D', 'D' ]\n",
    "col = ['red','green','orange' ]\n",
    "x = np.array([2, 3, 4, 3])\n",
    "y = score[0:3]\n",
    "plt.xticks(ks, fontsize = 18)\n",
    "plt.yticks(fontsize = 18)\n",
    "\n",
    "## Different Markers for first three points\n",
    "for _s, c, _x, _y in zip(s, col, x, y):\n",
    "    plt.scatter(_x, _y, marker=_s, c=c, s = 100)\n",
    "plt.xlabel(\"Number of clusters\", fontsize = 24)\n",
    "plt.ylabel(\"Silhouette score\", fontsize = 24)\n",
    "plt.title('Optimal number of clusters (Silhouette)', fontsize = 24)\n",
    "\n",
    "plt.text(1.90, score[0] + 0.005, str(round(score[0], 3)), size = 14, color = 'red', weight = 'semibold')\n",
    "\n",
    "plt.text(2.97, score[1] + 0.005, str(round(score[1], 3)), size = 14, color = 'green', weight = 'semibold')\n",
    "\n",
    "plt.text(3.90, score[2] + 0.005, str(round(score[2], 3)), size = 14, color = 'orange', weight = 'semibold')\n",
    "\n",
    "\n",
    "\n",
    "plt.show()"
   ]
  },
  {
   "cell_type": "markdown",
   "metadata": {},
   "source": [
    "###### Two Clusters"
   ]
  },
  {
   "cell_type": "markdown",
   "metadata": {},
   "source": [
    "Begin with configuring all paramters for k-means clustering."
   ]
  },
  {
   "cell_type": "code",
   "execution_count": null,
   "metadata": {},
   "outputs": [],
   "source": [
    "# K means clustering of Training Data\n",
    "number_cluster = 2\n",
    "kmeans = KMeans(n_clusters = number_cluster, init = 'k-means++', n_init = 10, random_state = 10).fit(X_train_std)\n",
    "labels = kmeans.labels_"
   ]
  },
  {
   "cell_type": "markdown",
   "metadata": {},
   "source": [
    "Next, load in our function to plot our 3D scatter plots."
   ]
  },
  {
   "cell_type": "code",
   "execution_count": null,
   "metadata": {},
   "outputs": [],
   "source": [
    "def scatter3d_cluster(df, x, y, z, code, title):\n",
    "    scatter  =  px.scatter_3d(df, x = x, y = y, z = z, color  =  code,  \n",
    "                            color_discrete_sequence = px.colors.qualitative.Light24)\n",
    "    \n",
    "    scatter.update_layout(title  =  title, title_font  =  dict(size  =  30),\n",
    "                          scene  =  dict(\n",
    "                              xaxis  =  dict(\n",
    "                                  backgroundcolor = \"rgb(200, 200, 230)\",\n",
    "                                  gridcolor = \"white\",\n",
    "                                  showbackground = True,\n",
    "                                  zerolinecolor = \"white\",\n",
    "                                  nticks = 10, ticks = 'outside',\n",
    "                                  tick0 = 0, tickwidth  =  4,\n",
    "                                  title_font  =  dict(size  =  16)),\n",
    "                              yaxis  =  dict(\n",
    "                                  backgroundcolor = \"rgb(230, 200,230)\",\n",
    "                                  gridcolor = \"white\",\n",
    "                                  showbackground = True,\n",
    "                                  zerolinecolor = \"white\",\n",
    "                                  nticks = 10, ticks = 'outside',\n",
    "                                  tick0 = 0, tickwidth  =  4,\n",
    "                                  title_font  =  dict(size  =  16)),\n",
    "                              zaxis  =  dict(\n",
    "                                  backgroundcolor = \"rgb(230, 230,200)\",\n",
    "                                  gridcolor = \"white\",\n",
    "                                  showbackground = True,\n",
    "                                  zerolinecolor = \"white\",\n",
    "                                  nticks = 10, ticks = 'outside',\n",
    "                                  tick0 = 0, tickwidth  =  4,\n",
    "                                  title_font  =  dict(size  =  16),\n",
    "                              ),\n",
    "                          ),\n",
    "                          width  =  700\n",
    "                         )\n",
    "    return scatter.show()"
   ]
  },
  {
   "cell_type": "markdown",
   "metadata": {},
   "source": [
    "Lastly, plot the data and let's label the data with our assumptions on how hackers are perceived.\n",
    "\n",
    "Hackers tend to have high Kill-Death Ratios, Headshot-Kill Ratios, Top 10 Ratios, and Win Ratios."
   ]
  },
  {
   "cell_type": "code",
   "execution_count": null,
   "metadata": {
    "scrolled": false
   },
   "outputs": [],
   "source": [
    "## 3D Plot of Training Data\n",
    "# Create and modify dataframe for the cluster column\n",
    "df_X_train_std = pd.DataFrame(X_train_std)\n",
    "df_X_train_std['Cluster'] = pd.Series(labels, index=df_X_train_std.index)\n",
    "\n",
    "#Rename Cluster label names from k-means\n",
    "cluster_label_names = {0: \"Human\", 1: \"Hacker\"}\n",
    "df_X_train_std['Cluster_Labels'] = df_X_train_std['Cluster'].map(cluster_label_names)  \n",
    "\n",
    "df_X_train_std.columns = ['Win Ratio', 'Kill Death Ratio', \"Headshot Kill Ratio\",\n",
    "                          \"Top 10 Ratio\", 'Cluster', 'Cluster_Labels']\n",
    "\n",
    "# Plots of Win Ratio, Kill Death Ratio, Headshott KIll Ratio\n",
    "scatter3d_cluster(df = df_X_train_std , x = 'Kill Death Ratio',\n",
    "                  y = 'Headshot Kill Ratio', z = 'Win Ratio', code = 'Cluster_Labels', \n",
    "                  title = 'Clustering of Kill-Death Ratio, Headshot-Kill Ratio, and Win Ratio')\n",
    "\n",
    "scatter3d_cluster(df = df_X_train_std , x = 'Kill Death Ratio', \n",
    "                  y = 'Top 10 Ratio', z = 'Win Ratio', code = 'Cluster_Labels', \n",
    "                  title = 'Clustering of Kill-Death Ratio, Top 10 Ratio, and Win Ratio')\n",
    "\n",
    "scatter3d_cluster(df = df_X_train_std , x = 'Headshot Kill Ratio',\n",
    "                  y = 'Top 10 Ratio', z = 'Win Ratio', code = 'Cluster_Labels', \n",
    "                 title = 'Clustering of Headshot-Kill Ratio, Top 10 Ratio, and Win Ratio') \n"
   ]
  },
  {
   "cell_type": "markdown",
   "metadata": {},
   "source": [
    "From the plots, we observed roughly 17225 humans and 3546 hackers. This seems to be an enormous amount of hackers, and I do not trust the results, maybe four clusters will provide a better result. Nevertheless, let's continue with predicting on the dev and test sets."
   ]
  },
  {
   "cell_type": "code",
   "execution_count": null,
   "metadata": {
    "scrolled": true
   },
   "outputs": [],
   "source": [
    "df_X_train_std.groupby('Cluster_Labels').count()"
   ]
  },
  {
   "cell_type": "markdown",
   "metadata": {},
   "source": [
    "##### Predicting on the dev set"
   ]
  },
  {
   "cell_type": "markdown",
   "metadata": {},
   "source": [
    "Begin with predicting on the dev set."
   ]
  },
  {
   "cell_type": "code",
   "execution_count": null,
   "metadata": {},
   "outputs": [],
   "source": [
    "# # K means clustering of Dev Data\n",
    "predict_labels = kmeans.predict(X_dev_std)"
   ]
  },
  {
   "cell_type": "markdown",
   "metadata": {},
   "source": [
    "Next, create the 3D scatter plots."
   ]
  },
  {
   "cell_type": "code",
   "execution_count": null,
   "metadata": {},
   "outputs": [],
   "source": [
    "## 3D Plot of deving Data\n",
    "# Create and modify dataframe for the cluster column\n",
    "df_X_dev_std = pd.DataFrame(X_dev_std)\n",
    "df_X_dev_std['Cluster'] = pd.Series(predict_labels, index=df_X_dev_std.index)\n",
    "\n",
    "#Rename Cluster label names from k-means\n",
    "cluster_label_names = {0: \"Human\", 1: \"Hacker\"}\n",
    "df_X_dev_std['Cluster_Labels'] = df_X_dev_std['Cluster'].map(cluster_label_names)  \n",
    "\n",
    "df_X_dev_std.columns = ['Win Ratio', 'Kill Death Ratio', \"Headshot Kill Ratio\",\n",
    "                          \"Top 10 Ratio\", 'Cluster', 'Cluster_Labels']\n",
    "\n",
    "# Plots of Win Ratio, Kill Death Ratio, Headshott KIll Ratio\n",
    "scatter3d_cluster(df = df_X_dev_std , x = 'Kill Death Ratio',\n",
    "                  y = 'Headshot Kill Ratio', z = 'Win Ratio', code = 'Cluster_Labels', \n",
    "                  title = 'Clustering of Kill-Death Ratio, Headshot-Kill Ratio, and Win Ratio' )\n",
    "\n",
    "scatter3d_cluster(df = df_X_dev_std , x = 'Kill Death Ratio', \n",
    "                  y = 'Top 10 Ratio', z = 'Win Ratio', code = 'Cluster_Labels', \n",
    "                  title = 'Clustering of Kill-Death Ratio, Top 10 Ratio, and Win Ratio')\n",
    "\n",
    "scatter3d_cluster(df = df_X_dev_std , x = 'Headshot Kill Ratio',\n",
    "                  y = 'Top 10 Ratio', z = 'Win Ratio', code = 'Cluster_Labels', \n",
    "                 title = 'Clustering of Headshot-Kill Ratio, Top 10 Ratio, and Win Ratio') "
   ]
  },
  {
   "cell_type": "markdown",
   "metadata": {},
   "source": [
    "From the plots, we observed roughly 5898 humans and 1223 hackers."
   ]
  },
  {
   "cell_type": "code",
   "execution_count": null,
   "metadata": {
    "scrolled": true
   },
   "outputs": [],
   "source": [
    "df_X_dev_std.groupby('Cluster_Labels').count()"
   ]
  },
  {
   "cell_type": "markdown",
   "metadata": {},
   "source": [
    "##### Predicting on the test set"
   ]
  },
  {
   "cell_type": "markdown",
   "metadata": {},
   "source": [
    "Begin with predicting on the test set."
   ]
  },
  {
   "cell_type": "code",
   "execution_count": null,
   "metadata": {},
   "outputs": [],
   "source": [
    "# # K means clustering of Training Data\n",
    "predict_labels = kmeans.predict(X_test_std)"
   ]
  },
  {
   "cell_type": "markdown",
   "metadata": {},
   "source": [
    "Next, create the 3D scatter plots."
   ]
  },
  {
   "cell_type": "code",
   "execution_count": null,
   "metadata": {},
   "outputs": [],
   "source": [
    "## 3D Plot of testing Data\n",
    "# Create and modify dataframe for the cluster column\n",
    "df_X_test_std = pd.DataFrame(X_test_std)\n",
    "df_X_test_std['Cluster'] = pd.Series(predict_labels, index=df_X_test_std.index)\n",
    "\n",
    "#Rename Cluster label names from k-means\n",
    "cluster_label_names = {0: \"Human\", 1: \"Hacker\"}\n",
    "df_X_test_std['Cluster_Labels'] = df_X_test_std['Cluster'].map(cluster_label_names)  \n",
    "\n",
    "df_X_test_std.columns = ['Win Ratio', 'Kill Death Ratio', \"Headshot Kill Ratio\",\n",
    "                          \"Top 10 Ratio\", 'Cluster', 'Cluster_Labels']\n",
    "\n",
    "# Plots of Win Ratio, Kill Death Ratio, Headshott KIll Ratio\n",
    "scatter3d_cluster(df = df_X_test_std , x = 'Kill Death Ratio',\n",
    "                  y = 'Headshot Kill Ratio', z = 'Win Ratio', code = 'Cluster_Labels', \n",
    "                  title = 'Clustering of Kill-Death Ratio, Headshot-Kill Ratio, and Win Ratio')\n",
    "\n",
    "scatter3d_cluster(df = df_X_test_std , x = 'Kill Death Ratio', \n",
    "                  y = 'Top 10 Ratio', z = 'Win Ratio', code = 'Cluster_Labels', \n",
    "                  title = 'Clustering of Kill-Death Ratio, Top 10 Ratio, and Win Ratio')\n",
    "\n",
    "scatter3d_cluster(df = df_X_test_std , x = 'Headshot Kill Ratio',\n",
    "                  y = 'Top 10 Ratio', z = 'Win Ratio', code = 'Cluster_Labels', \n",
    "                 title = 'Clustering of Headshot-Kill Ratio, Top 10 Ratio, and Win Ratio') "
   ]
  },
  {
   "cell_type": "markdown",
   "metadata": {},
   "source": [
    "From the plots, we observed roughly 1454 humans and 317 hackers."
   ]
  },
  {
   "cell_type": "code",
   "execution_count": null,
   "metadata": {
    "scrolled": true
   },
   "outputs": [],
   "source": [
    "df_X_test_std.groupby('Cluster_Labels').count()"
   ]
  },
  {
   "cell_type": "markdown",
   "metadata": {},
   "source": [
    "###### Four Clusters"
   ]
  },
  {
   "cell_type": "markdown",
   "metadata": {},
   "source": [
    "Begin with configuring all paramters for k-means clustering."
   ]
  },
  {
   "cell_type": "code",
   "execution_count": null,
   "metadata": {},
   "outputs": [],
   "source": [
    "# K means clustering of Training Data\n",
    "number_cluster = 4\n",
    "kmeans = KMeans(n_clusters = number_cluster, init = 'k-means++', random_state = 10).fit(X_train_std)\n",
    "labels = kmeans.labels_"
   ]
  },
  {
   "cell_type": "markdown",
   "metadata": {},
   "source": [
    "Lastly, plot the data and let's label the data with our assumptions on how clusters are labeled.\n",
    "\n",
    "In terms of Kill-Death Ratios, Headshot-Kill Ratio, Top 10 Ratio, and Win Ratio, I'd expect the following trend Hackers > Professional > Experienced > Beginner. "
   ]
  },
  {
   "cell_type": "code",
   "execution_count": null,
   "metadata": {
    "scrolled": false
   },
   "outputs": [],
   "source": [
    "## 3D Plot of Training Data\n",
    "# Create and modify dataframe for the cluster column\n",
    "df_X_train_std = pd.DataFrame(X_train_std)\n",
    "df_X_train_std['Cluster'] = pd.Series(labels, index=df_X_train_std.index)\n",
    "#Rename Cluster label names from k-means\n",
    "cluster_label_names = {0: \"Beginner\", 1: \"Hacker\", 2: \"Experienced\", 3: \"Professional\"}\n",
    "\n",
    "df_X_train_std['Cluster_Labels'] = df_X_train_std['Cluster'].map(cluster_label_names)  \n",
    "\n",
    "df_X_train_std.columns = ['Win Ratio', 'Kill Death Ratio', \"Headshot Kill Ratio\",\n",
    "                          \"Top 10 Ratio\", 'Cluster', 'Cluster_Labels']\n",
    "\n",
    "# Plots of Win Ratio, Kill Death Ratio, Headshott KIll Ratio\n",
    "scatter3d_cluster(df = df_X_train_std , x = 'Kill Death Ratio',\n",
    "                  y = 'Headshot Kill Ratio', z = 'Win Ratio', code = 'Cluster_Labels', \n",
    "                  title = 'Clustering of Kill-Death Ratio, Headshot-Kill Ratio, and Win Ratio' )\n",
    "\n",
    "scatter3d_cluster(df = df_X_train_std , x = 'Kill Death Ratio', \n",
    "                  y = 'Top 10 Ratio', z = 'Win Ratio', code = 'Cluster_Labels', \n",
    "                  title = 'Clustering of Kill-Death Ratio, Top 10 Ratio, and Win Ratio')\n",
    "\n",
    "scatter3d_cluster(df = df_X_train_std , x = 'Headshot Kill Ratio',\n",
    "                  y = 'Top 10 Ratio', z = 'Win Ratio', code = 'Cluster_Labels', \n",
    "                 title = 'Clustering of Headshot-Kill Ratio, Top 10 Ratio, and Win Ratio') \n"
   ]
  },
  {
   "cell_type": "markdown",
   "metadata": {},
   "source": [
    "From the plots, we observed roughly 9059 beginners, 6561 experienced, 4332 professionals, and 819 hackers. This seems more reasonable in how many hackers were selected, as I'd expect hackers to take up a small number of the population roughly 0 to 10%. "
   ]
  },
  {
   "cell_type": "code",
   "execution_count": null,
   "metadata": {
    "scrolled": true
   },
   "outputs": [],
   "source": [
    "df_X_train_std.groupby('Cluster_Labels').count()"
   ]
  },
  {
   "cell_type": "markdown",
   "metadata": {},
   "source": [
    "##### Predicting on the Dev Set"
   ]
  },
  {
   "cell_type": "markdown",
   "metadata": {},
   "source": [
    "Begin with predicting on the dev set."
   ]
  },
  {
   "cell_type": "code",
   "execution_count": null,
   "metadata": {},
   "outputs": [],
   "source": [
    "# # K means clustering of Dev Data\n",
    "predict_labels = kmeans.predict(X_dev_std)"
   ]
  },
  {
   "cell_type": "markdown",
   "metadata": {},
   "source": [
    "Next, create the 3D scatter plots."
   ]
  },
  {
   "cell_type": "code",
   "execution_count": null,
   "metadata": {},
   "outputs": [],
   "source": [
    "## 3D Plot of deving Data\n",
    "# Create and modify dataframe for the cluster column\n",
    "df_X_dev_std = pd.DataFrame(X_dev_std)\n",
    "df_X_dev_std['Cluster'] = pd.Series(predict_labels, index=df_X_dev_std.index)\n",
    "\n",
    "#Rename Cluster label names from k-means\n",
    "cluster_label_names = {0: \"Beginner\", 1: \"Hackers\", 2: \"Experienced\", 3: \"Professional\"}\n",
    "df_X_dev_std['Cluster_Labels'] = df_X_dev_std['Cluster'].map(cluster_label_names)  \n",
    "\n",
    "df_X_dev_std.columns = ['Win Ratio', 'Kill Death Ratio', \"Headshot Kill Ratio\",\n",
    "                          \"Top 10 Ratio\", 'Cluster', 'Cluster_Labels']\n",
    "\n",
    "# Plots of Win Ratio, Kill Death Ratio, Headshott KIll Ratio\n",
    "scatter3d_cluster(df = df_X_dev_std , x = 'Kill Death Ratio',\n",
    "                  y = 'Headshot Kill Ratio', z = 'Win Ratio', code = 'Cluster_Labels', \n",
    "                  title = 'Clustering of Kill-Death Ratio, Headshot-Kill Ratio, and Win Ratio' )\n",
    "\n",
    "scatter3d_cluster(df = df_X_dev_std , x = 'Kill Death Ratio', \n",
    "                  y = 'Top 10 Ratio', z = 'Win Ratio', code = 'Cluster_Labels', \n",
    "                  title = 'Clustering of Kill-Death Ratio, Top 10 Ratio, and Win Ratio')\n",
    "\n",
    "scatter3d_cluster(df = df_X_dev_std , x = 'Headshot Kill Ratio',\n",
    "                  y = 'Top 10 Ratio', z = 'Win Ratio', code = 'Cluster_Labels', \n",
    "                 title = 'Clustering of Headshot-Kill Ratio, Top 10 Ratio, and Win Ratio') "
   ]
  },
  {
   "cell_type": "markdown",
   "metadata": {},
   "source": [
    "From the plots, we observed roughly 3139 beginners, 2221 experienced, 1448 professionals, and 313 hackers."
   ]
  },
  {
   "cell_type": "code",
   "execution_count": null,
   "metadata": {
    "scrolled": true
   },
   "outputs": [],
   "source": [
    "df_X_dev_std.groupby('Cluster_Labels').count()"
   ]
  },
  {
   "cell_type": "markdown",
   "metadata": {},
   "source": [
    "##### Predicting on the test set"
   ]
  },
  {
   "cell_type": "markdown",
   "metadata": {},
   "source": [
    "Begin with predicting on the test set."
   ]
  },
  {
   "cell_type": "code",
   "execution_count": null,
   "metadata": {},
   "outputs": [],
   "source": [
    "# # K means clustering of Training Data\n",
    "predict_labels = kmeans.predict(X_test_std)"
   ]
  },
  {
   "cell_type": "markdown",
   "metadata": {},
   "source": [
    "Next, create the 3D scatter plots."
   ]
  },
  {
   "cell_type": "code",
   "execution_count": null,
   "metadata": {},
   "outputs": [],
   "source": [
    "## 3D Plot of testing Data\n",
    "# Create and modify dataframe for the cluster column\n",
    "df_X_test_std = pd.DataFrame(X_test_std)\n",
    "df_X_test_std['Cluster'] = pd.Series(predict_labels, index=df_X_test_std.index)\n",
    "\n",
    "#Rename Cluster label names from k-means\n",
    "cluster_label_names = {0: \"Beginner\", 1: \"Hackers\", 2: \"Experienced\", 3: \"Professional\"}\n",
    "df_X_test_std['Cluster_Labels'] = df_X_test_std['Cluster'].map(cluster_label_names)  \n",
    "\n",
    "df_X_test_std.columns = ['Win Ratio', 'Kill Death Ratio', \"Headshot Kill Ratio\",\n",
    "                          \"Top 10 Ratio\", 'Cluster', 'Cluster_Labels']\n",
    "\n",
    "\n",
    "# Plots of Win Ratio, Kill Death Ratio, Headshott KIll Ratio\n",
    "scatter3d_cluster(df = df_X_test_std , x = 'Kill Death Ratio',\n",
    "                  y = 'Headshot Kill Ratio', z = 'Win Ratio', code = 'Cluster_Labels', \n",
    "                  title = 'Clustering of Kill-Death Ratio, Headshot-Kill Ratio, and Win Ratio' )\n",
    "\n",
    "scatter3d_cluster(df = df_X_test_std , x = 'Kill Death Ratio', \n",
    "                  y = 'Top 10 Ratio', z = 'Win Ratio', code = 'Cluster_Labels', \n",
    "                  title = 'Clustering of Kill-Death Ratio, Top 10 Ratio, and Win Ratio')\n",
    "\n",
    "scatter3d_cluster(df = df_X_test_std , x = 'Headshot Kill Ratio',\n",
    "                  y = 'Top 10 Ratio', z = 'Win Ratio', code = 'Cluster_Labels', \n",
    "                 title = 'Clustering of Headshot-Kill Ratio, Top 10 Ratio, and Win Ratio') "
   ]
  },
  {
   "cell_type": "markdown",
   "metadata": {},
   "source": [
    "From the plots, we observed roughly 766 beginners, 564 experienced, 380 professionals, and 71 hackers."
   ]
  },
  {
   "cell_type": "code",
   "execution_count": null,
   "metadata": {
    "scrolled": true
   },
   "outputs": [],
   "source": [
    "df_X_test_std.groupby('Cluster_Labels').count()"
   ]
  },
  {
   "cell_type": "markdown",
   "metadata": {},
   "source": [
    "### Clustering in 2D (Selected Few Features)"
   ]
  },
  {
   "cell_type": "markdown",
   "metadata": {},
   "source": [
    "Let's examine all of these clusters in two-dimensions to see any patterns."
   ]
  },
  {
   "cell_type": "markdown",
   "metadata": {},
   "source": [
    "Begin with configuring all paramters for k-means clustering."
   ]
  },
  {
   "cell_type": "code",
   "execution_count": null,
   "metadata": {},
   "outputs": [],
   "source": [
    "# K means clustering of Training Data\n",
    "number_cluster = 2\n",
    "kmeans = KMeans(n_clusters = number_cluster, init = 'k-means++', random_state = 10).fit(X_train_std)\n",
    "labels = kmeans.labels_"
   ]
  },
  {
   "cell_type": "markdown",
   "metadata": {},
   "source": [
    "Next, we'll use the function below to create our 2D scatter plots."
   ]
  },
  {
   "cell_type": "code",
   "execution_count": null,
   "metadata": {},
   "outputs": [],
   "source": [
    "def scatter2d_cluster(df, x, y,  code, title):\n",
    "    scatter = px.scatter(df, x = x, y = y, color = code,\n",
    "                         color_discrete_sequence = px.colors.qualitative.Light24)\n",
    "    \n",
    "    scatter.update_xaxes(showline = True, linewidth = 1, linecolor = 'black', \n",
    "                          mirror = True, gridcolor = 'LightPink', automargin = True, \n",
    "                          zeroline = True, zerolinewidth = 2, zerolinecolor = 'LightPink', \n",
    "                          ticks = \"outside\", tickwidth = 2, tickcolor = 'black', ticklen = 10,\n",
    "                          title_font = dict(size = 18))\n",
    "    scatter.update_yaxes(showline = True, linewidth = 2, linecolor = 'black', \n",
    "                          mirror = True, gridcolor = 'LightPink',\n",
    "                          zeroline = True, zerolinewidth = 1, zerolinecolor = 'LightPink', \n",
    "                          ticks = \"outside\", tickwidth = 2, tickcolor = 'black', ticklen = 10,\n",
    "                          title_font = dict(size = 18))\n",
    "    \n",
    "    \n",
    "    scatter.update_layout(title = title, title_font = dict(size = 24), \n",
    "                          legend = dict(\n",
    "                              x = 1,\n",
    "                              y = 1,\n",
    "                              traceorder = \"normal\",\n",
    "                              font = dict(\n",
    "                                  family = \"sans-serif\",\n",
    "                                  size = 14,\n",
    "                                  color = \"black\"\n",
    "                              ),\n",
    "                              bgcolor = \"#e5ecf6\",\n",
    "                              bordercolor = \"Black\",\n",
    "                              borderwidth = 2\n",
    "                          )\n",
    "                         )\n",
    "    return scatter.show()\n"
   ]
  },
  {
   "cell_type": "markdown",
   "metadata": {},
   "source": [
    "Finally, we'll populate our scatter plots."
   ]
  },
  {
   "cell_type": "code",
   "execution_count": null,
   "metadata": {},
   "outputs": [],
   "source": [
    "## 2D Plot of Training Data\n",
    "# Create and modify dataframe for the cluster column\n",
    "df_X_train_std = pd.DataFrame(X_train_std)\n",
    "df_X_train_std['cluster'] = pd.Series(labels, index=df_X_train_std.index)\n",
    "df_X_train_std.columns = ['Win Ratio', 'Kill Death Ratio', \"Headshot Kill Ratio\", \"Top 10 Ratio\", 'cluster']\n",
    "\n",
    "#Rename Cluster label names from k-means\n",
    "cluster_label_names = {0: \"Human\", 1: \"Hacker\"}\n",
    "df_X_train_std['Cluster_Labels'] = df_X_train_std['cluster'].map(cluster_label_names)  \n",
    "\n",
    "\n",
    "# Plots of Win Ratio, KDR, Headshott KIll Ratio\n",
    "scatter2d_cluster(df = df_X_train_std , x = 'Kill Death Ratio',\n",
    "                  y = 'Win Ratio',  code = 'Cluster_Labels',\n",
    "                  title = 'Clustering of Kill Death Ratio and Win Ratio')\n",
    "\n",
    "scatter2d_cluster(df = df_X_train_std , x = 'Kill Death Ratio',\n",
    "                  y = 'Headshot Kill Ratio', code = 'Cluster_Labels',\n",
    "                  title = 'Clustering of Kill Death Ratio and Headshot Kill Ratio')\n",
    "\n",
    "scatter2d_cluster(df = df_X_train_std , x = 'Headshot Kill Ratio',\n",
    "                  y = 'Win Ratio',  code = 'Cluster_Labels',\n",
    "                  title = 'Clustering of Headshot Kill Ratio and Win Ratio')\n",
    "\n",
    "scatter2d_cluster(df = df_X_train_std , x = 'Kill Death Ratio',\n",
    "                  y = 'Top 10 Ratio', code = 'Cluster_Labels',\n",
    "                  title = 'Clustering of Kill Death Ratio and Top 10 Ratio')\n",
    "\n",
    "scatter2d_cluster(df = df_X_train_std , x = 'Headshot Kill Ratio',\n",
    "                  y = 'Top 10 Ratio', code = 'Cluster_Labels',\n",
    "                  title = 'Clustering of Headshot Kill Ratio and Top 10 Ratio')\n"
   ]
  },
  {
   "cell_type": "markdown",
   "metadata": {},
   "source": [
    "From the plots, we observed roughly 17225 humans and 3546 hackers."
   ]
  },
  {
   "cell_type": "code",
   "execution_count": null,
   "metadata": {},
   "outputs": [],
   "source": [
    "df_X_train_std.groupby('Cluster_Labels').count()"
   ]
  },
  {
   "cell_type": "markdown",
   "metadata": {},
   "source": [
    "##### Predicting on the dev set"
   ]
  },
  {
   "cell_type": "markdown",
   "metadata": {},
   "source": [
    "Begin with predicting on the dev set."
   ]
  },
  {
   "cell_type": "code",
   "execution_count": null,
   "metadata": {},
   "outputs": [],
   "source": [
    "# # K means clustering of dev set\n",
    "predict_labels = kmeans.predict(X_dev_std)"
   ]
  },
  {
   "cell_type": "markdown",
   "metadata": {},
   "source": [
    "Next, populate our 2D scatter plots."
   ]
  },
  {
   "cell_type": "code",
   "execution_count": null,
   "metadata": {},
   "outputs": [],
   "source": [
    "## 3D Plot of Testing Data\n",
    "# Create and modify dataframe for the cluster column\n",
    "df_X_dev_std = pd.DataFrame(X_dev_std)\n",
    "df_X_dev_std['cluster'] = pd.Series(predict_labels, index=df_X_dev_std.index)\n",
    "df_X_dev_std.columns = ['Win Ratio', 'Kill Death Ratio', \"Headshot Kill Ratio\", \"Top 10 Ratio\", 'cluster']\n",
    "\n",
    "#Rename Cluster label names from k-means\n",
    "cluster_label_names = {0: \"Human\", 1: \"Hacker\"}\n",
    "df_X_dev_std['Cluster_Labels'] = df_X_dev_std['cluster'].map(cluster_label_names)  \n",
    "\n",
    "\n",
    "# Plots of Win Ratio, KDR, Headshott KIll Ratio\n",
    "scatter2d_cluster(df = df_X_dev_std , x = 'Kill Death Ratio',\n",
    "                  y = 'Win Ratio',  code = 'Cluster_Labels',\n",
    "                  title = 'Clustering of Kill Death Ratio and Win Ratio')\n",
    "\n",
    "scatter2d_cluster(df = df_X_dev_std , x = 'Kill Death Ratio',\n",
    "                  y = 'Headshot Kill Ratio', code = 'Cluster_Labels',\n",
    "                  title = 'Clustering of Kill Death Ratio and Headshot Kill Ratio')\n",
    "\n",
    "scatter2d_cluster(df = df_X_dev_std , x = 'Headshot Kill Ratio',\n",
    "                  y = 'Win Ratio',  code = 'Cluster_Labels',\n",
    "                  title = 'Clustering of Headshot Kill Ratio and Win Ratio')\n",
    "\n",
    "scatter2d_cluster(df = df_X_dev_std , x = 'Kill Death Ratio',\n",
    "                  y = 'Top 10 Ratio', code = 'Cluster_Labels',\n",
    "                  title = 'Clustering of Kill Death Ratio and Top 10 Ratio')\n",
    "\n",
    "scatter2d_cluster(df = df_X_dev_std , x = 'Headshot Kill Ratio',\n",
    "                  y = 'Top 10 Ratio', code = 'Cluster_Labels',\n",
    "                  title = 'Clustering of Headshot Kill Ratio and Top 10 Ratio')"
   ]
  },
  {
   "cell_type": "markdown",
   "metadata": {},
   "source": [
    "From the plots, we observed roughly 5898 humans and 1223 hackers."
   ]
  },
  {
   "cell_type": "code",
   "execution_count": null,
   "metadata": {
    "scrolled": true
   },
   "outputs": [],
   "source": [
    "df_X_dev_std.groupby('Cluster_Labels').count()"
   ]
  },
  {
   "cell_type": "markdown",
   "metadata": {},
   "source": [
    "##### Predicting on the test set"
   ]
  },
  {
   "cell_type": "markdown",
   "metadata": {},
   "source": [
    "Begin with predicting on the test set."
   ]
  },
  {
   "cell_type": "code",
   "execution_count": null,
   "metadata": {},
   "outputs": [],
   "source": [
    "# # K means clustering of dev set\n",
    "predict_labels = kmeans.predict(X_test_std)"
   ]
  },
  {
   "cell_type": "markdown",
   "metadata": {},
   "source": [
    "Next, populate our 2D scatter plots."
   ]
  },
  {
   "cell_type": "code",
   "execution_count": null,
   "metadata": {},
   "outputs": [],
   "source": [
    "## 3D Plot of Testing Data\n",
    "# Create and modify dataframe for the cluster column\n",
    "df_X_test_std = pd.DataFrame(X_test_std)\n",
    "df_X_test_std['cluster'] = pd.Series(predict_labels, index=df_X_test_std.index)\n",
    "df_X_test_std.columns = ['Win Ratio', 'Kill Death Ratio', \"Headshot Kill Ratio\", \"Top 10 Ratio\", 'cluster']\n",
    "\n",
    "#Rename Cluster label names from k-means\n",
    "cluster_label_names = {0: \"Human\", 1: \"Hacker\"}\n",
    "df_X_test_std['Cluster_Labels'] = df_X_test_std['cluster'].map(cluster_label_names)  \n",
    "\n",
    "\n",
    "# Plots of Win Ratio, KDR, Headshott KIll Ratio\n",
    "scatter2d_cluster(df = df_X_test_std , x = 'Kill Death Ratio',\n",
    "                  y = 'Win Ratio',  code = 'Cluster_Labels',\n",
    "                  title = 'Clustering of Kill Death Ratio and Win Ratio')\n",
    "\n",
    "scatter2d_cluster(df = df_X_test_std , x = 'Kill Death Ratio',\n",
    "                  y = 'Headshot Kill Ratio', code = 'Cluster_Labels',\n",
    "                  title = 'Clustering of Kill Death Ratio and Headshot Kill Ratio')\n",
    "\n",
    "scatter2d_cluster(df = df_X_test_std , x = 'Headshot Kill Ratio',\n",
    "                  y = 'Win Ratio',  code = 'Cluster_Labels',\n",
    "                  title = 'Clustering of Headshot Kill Ratio and Win Ratio')\n",
    "\n",
    "scatter2d_cluster(df = df_X_test_std , x = 'Kill Death Ratio',\n",
    "                  y = 'Top 10 Ratio', code = 'Cluster_Labels',\n",
    "                  title = 'Clustering of Kill Death Ratio and Top 10 Ratio')\n",
    "\n",
    "scatter2d_cluster(df = df_X_test_std , x = 'Headshot Kill Ratio',\n",
    "                  y = 'Top 10 Ratio', code = 'Cluster_Labels',\n",
    "                  title = 'Clustering of Headshot Kill Ratio and Top 10 Ratio')"
   ]
  },
  {
   "cell_type": "markdown",
   "metadata": {},
   "source": [
    "From the plots, we observed roughly 1464 humans and 317 hackers."
   ]
  },
  {
   "cell_type": "code",
   "execution_count": null,
   "metadata": {
    "scrolled": false
   },
   "outputs": [],
   "source": [
    "df_X_test_std.groupby('Cluster_Labels').count()"
   ]
  },
  {
   "cell_type": "markdown",
   "metadata": {},
   "source": [
    "#### Four Clusters"
   ]
  },
  {
   "cell_type": "markdown",
   "metadata": {},
   "source": [
    "Begin with configuring all paramters for k-means clustering."
   ]
  },
  {
   "cell_type": "code",
   "execution_count": null,
   "metadata": {},
   "outputs": [],
   "source": [
    "# K means clustering of Training Data\n",
    "number_cluster = 4\n",
    "kmeans = KMeans(n_clusters = number_cluster, init = 'k-means++', random_state = 10).fit(X_train_std)\n",
    "labels = kmeans.labels_"
   ]
  },
  {
   "cell_type": "markdown",
   "metadata": {},
   "source": [
    "Next, we'll populate our scatter plots."
   ]
  },
  {
   "cell_type": "code",
   "execution_count": null,
   "metadata": {},
   "outputs": [],
   "source": [
    "## 2D Plot of Training Data\n",
    "# Create and modify dataframe for the cluster column\n",
    "df_X_train_std = pd.DataFrame(X_train_std)\n",
    "df_X_train_std['cluster'] = pd.Series(labels, index=df_X_train_std.index)\n",
    "df_X_train_std.columns = ['Win Ratio', 'Kill Death Ratio', \"Headshot Kill Ratio\", \"Top 10 Ratio\", 'cluster']\n",
    "\n",
    "#Rename Cluster label names from k-means\n",
    "cluster_label_names = {0: \"Beginner\", 1: \"Hacker\", 2: \"Experienced\", 3: \"Professional\"}\n",
    "df_X_train_std['Cluster_Labels'] = df_X_train_std['cluster'].map(cluster_label_names)  \n",
    "\n",
    "\n",
    "# Plots of Win Ratio, KDR, Headshott KIll Ratio\n",
    "scatter2d_cluster(df = df_X_train_std , x = 'Kill Death Ratio',\n",
    "                  y = 'Win Ratio',  code = 'Cluster_Labels',\n",
    "                  title = 'Clustering of Kill Death Ratio and Win Ratio')\n",
    "\n",
    "scatter2d_cluster(df = df_X_train_std , x = 'Kill Death Ratio',\n",
    "                  y = 'Headshot Kill Ratio', code = 'Cluster_Labels',\n",
    "                  title = 'Clustering of Kill Death Ratio and Headshot Kill Ratio')\n",
    "\n",
    "scatter2d_cluster(df = df_X_train_std , x = 'Headshot Kill Ratio',\n",
    "                  y = 'Win Ratio',  code = 'Cluster_Labels',\n",
    "                  title = 'Clustering of Headshot Kill Ratio and Win Ratio')\n",
    "\n",
    "scatter2d_cluster(df = df_X_train_std , x = 'Kill Death Ratio',\n",
    "                  y = 'Top 10 Ratio', code = 'Cluster_Labels',\n",
    "                  title = 'Clustering of Kill Death Ratio and Top 10 Ratio')\n",
    "\n",
    "scatter2d_cluster(df = df_X_train_std , x = 'Headshot Kill Ratio',\n",
    "                  y = 'Top 10 Ratio', code = 'Cluster_Labels',\n",
    "                  title = 'Clustering of Headshot Kill Ratio and Top 10 Ratio')\n"
   ]
  },
  {
   "cell_type": "markdown",
   "metadata": {},
   "source": [
    "From the plots, we observed roughly 9059 beginners, 6561 experienced, 4332 professionals, and 819 hackers."
   ]
  },
  {
   "cell_type": "code",
   "execution_count": null,
   "metadata": {},
   "outputs": [],
   "source": [
    "df_X_train_std.groupby('Cluster_Labels').count()"
   ]
  },
  {
   "cell_type": "markdown",
   "metadata": {},
   "source": [
    "##### Predicting on the dev set"
   ]
  },
  {
   "cell_type": "markdown",
   "metadata": {},
   "source": [
    "Begin with predicting on the dev set."
   ]
  },
  {
   "cell_type": "code",
   "execution_count": null,
   "metadata": {},
   "outputs": [],
   "source": [
    "# # K means clustering of dev set\n",
    "predict_labels = kmeans.predict(X_dev_std)"
   ]
  },
  {
   "cell_type": "markdown",
   "metadata": {},
   "source": [
    "Next, populate our 2D scatter plots."
   ]
  },
  {
   "cell_type": "code",
   "execution_count": null,
   "metadata": {},
   "outputs": [],
   "source": [
    "## 3D Plot of Testing Data\n",
    "# Create and modify dataframe for the cluster column\n",
    "df_X_dev_std = pd.DataFrame(X_dev_std)\n",
    "df_X_dev_std['cluster'] = pd.Series(predict_labels, index=df_X_dev_std.index)\n",
    "df_X_dev_std.columns = ['Win Ratio', 'Kill Death Ratio', \"Headshot Kill Ratio\", \"Top 10 Ratio\", 'cluster']\n",
    "\n",
    "#Rename Cluster label names from k-means\n",
    "cluster_label_names = {0: \"Beginner\", 1: \"Hacker\", 2: \"Experienced\", 3: \"Professional\"}\n",
    "df_X_dev_std['Cluster_Labels'] = df_X_dev_std['cluster'].map(cluster_label_names)  \n",
    "\n",
    "\n",
    "# Plots of Win Ratio, KDR, Headshott KIll Ratio\n",
    "scatter2d_cluster(df = df_X_dev_std , x = 'Kill Death Ratio',\n",
    "                  y = 'Win Ratio',  code = 'Cluster_Labels',\n",
    "                  title = 'Clustering of Kill Death Ratio and Win Ratio')\n",
    "\n",
    "scatter2d_cluster(df = df_X_dev_std , x = 'Kill Death Ratio',\n",
    "                  y = 'Headshot Kill Ratio', code = 'Cluster_Labels',\n",
    "                  title = 'Clustering of Kill Death Ratio and Headshot Kill Ratio')\n",
    "\n",
    "scatter2d_cluster(df = df_X_dev_std , x = 'Headshot Kill Ratio',\n",
    "                  y = 'Win Ratio',  code = 'Cluster_Labels',\n",
    "                  title = 'Clustering of Headshot Kill Ratio and Win Ratio')\n",
    "\n",
    "scatter2d_cluster(df = df_X_dev_std , x = 'Kill Death Ratio',\n",
    "                  y = 'Top 10 Ratio', code = 'Cluster_Labels',\n",
    "                  title = 'Clustering of Kill Death Ratio and Top 10 Ratio')\n",
    "\n",
    "scatter2d_cluster(df = df_X_dev_std , x = 'Headshot Kill Ratio',\n",
    "                  y = 'Top 10 Ratio', code = 'Cluster_Labels',\n",
    "                  title = 'Clustering of Headshot Kill Ratio and Top 10 Ratio')"
   ]
  },
  {
   "cell_type": "markdown",
   "metadata": {},
   "source": [
    "From the plots, we observed roughly 3139 beginners, 2221 experienced, 1448 professionals, and 313 hackers."
   ]
  },
  {
   "cell_type": "code",
   "execution_count": null,
   "metadata": {
    "scrolled": true
   },
   "outputs": [],
   "source": [
    "df_X_dev_std.groupby('Cluster_Labels').count()"
   ]
  },
  {
   "cell_type": "markdown",
   "metadata": {},
   "source": [
    "##### Predicting on the test set"
   ]
  },
  {
   "cell_type": "markdown",
   "metadata": {},
   "source": [
    "Begin with predicting on the test set."
   ]
  },
  {
   "cell_type": "code",
   "execution_count": null,
   "metadata": {},
   "outputs": [],
   "source": [
    "# # K means clustering of dev set\n",
    "predict_labels = kmeans.predict(X_test_std)"
   ]
  },
  {
   "cell_type": "markdown",
   "metadata": {},
   "source": [
    "Next, populate our 2D scatter plots."
   ]
  },
  {
   "cell_type": "code",
   "execution_count": null,
   "metadata": {},
   "outputs": [],
   "source": [
    "## 3D Plot of Testing Data\n",
    "# Create and modify dataframe for the cluster column\n",
    "df_X_test_std = pd.DataFrame(X_test_std)\n",
    "df_X_test_std['cluster'] = pd.Series(predict_labels, index=df_X_test_std.index)\n",
    "df_X_test_std.columns = ['Win Ratio', 'Kill Death Ratio', \"Headshot Kill Ratio\", \"Top 10 Ratio\", 'cluster']\n",
    "\n",
    "#Rename Cluster label names from k-means\n",
    "cluster_label_names = {0: \"Beginner\", 1: \"Hacker\", 2: \"Experienced\", 3: \"Professional\"}\n",
    "df_X_test_std['Cluster_Labels'] = df_X_test_std['cluster'].map(cluster_label_names)  \n",
    "\n",
    "\n",
    "# Plots of Win Ratio, KDR, Headshott KIll Ratio\n",
    "scatter2d_cluster(df = df_X_test_std , x = 'Kill Death Ratio',\n",
    "                  y = 'Win Ratio',  code = 'Cluster_Labels',\n",
    "                  title = 'Clustering of Kill Death Ratio and Win Ratio')\n",
    "\n",
    "scatter2d_cluster(df = df_X_test_std , x = 'Kill Death Ratio',\n",
    "                  y = 'Headshot Kill Ratio', code = 'Cluster_Labels',\n",
    "                  title = 'Clustering of Kill Death Ratio and Headshot Kill Ratio')\n",
    "\n",
    "scatter2d_cluster(df = df_X_test_std , x = 'Headshot Kill Ratio',\n",
    "                  y = 'Win Ratio',  code = 'Cluster_Labels',\n",
    "                  title = 'Clustering of Headshot Kill Ratio and Win Ratio')\n",
    "\n",
    "scatter2d_cluster(df = df_X_test_std , x = 'Kill Death Ratio',\n",
    "                  y = 'Top 10 Ratio', code = 'Cluster_Labels',\n",
    "                  title = 'Clustering of Kill Death Ratio and Top 10 Ratio')\n",
    "\n",
    "scatter2d_cluster(df = df_X_test_std , x = 'Headshot Kill Ratio',\n",
    "                  y = 'Top 10 Ratio', code = 'Cluster_Labels',\n",
    "                  title = 'Clustering of Headshot Kill Ratio and Top 10 Ratio')"
   ]
  },
  {
   "cell_type": "markdown",
   "metadata": {},
   "source": [
    "From the plots, we observed roughly 766 beginners, 564 experienced, 380 professionals, and 71 hackers.\n"
   ]
  },
  {
   "cell_type": "code",
   "execution_count": null,
   "metadata": {
    "scrolled": false
   },
   "outputs": [],
   "source": [
    "df_X_test_std.groupby('Cluster_Labels').count()"
   ]
  },
  {
   "cell_type": "markdown",
   "metadata": {},
   "source": [
    "### Remarks\n",
    "* Without external labels, we cannot verify the accuracy of these clusters. But we can make an educated guess on what these clusters are by using domain experience and advice from experts playing the game.\n",
    "* Also, it's not well defined on how these clusters are formed, maybe look into dimensionality reduction techniques such as PCA to solve this issue.\n",
    "* K-means does well in segmenting common patterns in the data, but what if these hackers only comprise a small portion of the population? Then, we should examine a different approach and reimagine this as an anomaly detection problem."
   ]
  },
  {
   "cell_type": "markdown",
   "metadata": {},
   "source": [
    "### References\n",
    "\n",
    "[1] \"Survey Report on K-Means Clustering Algorithm\", International Journal of Modern Trends in Engineering & Research, vol. 4, no. 4, pp. 218-221, 2017. Available: 10.21884/ijmter.2017.4143.lgjzd.\n",
    "\n",
    "[2] https://www.datanovia.com/en/lessons/determining-the-optimal-number-of-clusters-3-must-know-methods/"
   ]
  }
 ],
 "metadata": {
  "kernelspec": {
   "display_name": "Python 3",
   "language": "python",
   "name": "python3"
  },
  "language_info": {
   "codemirror_mode": {
    "name": "ipython",
    "version": 3
   },
   "file_extension": ".py",
   "mimetype": "text/x-python",
   "name": "python",
   "nbconvert_exporter": "python",
   "pygments_lexer": "ipython3",
   "version": "3.7.4"
  }
 },
 "nbformat": 4,
 "nbformat_minor": 2
}
